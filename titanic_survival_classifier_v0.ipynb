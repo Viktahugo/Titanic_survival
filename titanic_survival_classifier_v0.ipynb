{
 "cells": [
  {
   "cell_type": "code",
   "execution_count": 1,
   "id": "ed165320",
   "metadata": {
    "ExecuteTime": {
     "end_time": "2021-08-06T17:13:49.032475Z",
     "start_time": "2021-08-06T17:13:49.015340Z"
    }
   },
   "outputs": [],
   "source": [
    "import numpy as np\n",
    "import pandas as pd\n",
    "import seaborn as sns"
   ]
  },
  {
   "cell_type": "code",
   "execution_count": 2,
   "id": "5bf3490c",
   "metadata": {
    "ExecuteTime": {
     "end_time": "2021-08-06T17:13:49.533332Z",
     "start_time": "2021-08-06T17:13:49.483366Z"
    }
   },
   "outputs": [],
   "source": [
    "## Load Data\n",
    "train=pd.read_csv(r'train.csv')\n",
    "test=pd.read_csv(r'test.csv')"
   ]
  },
  {
   "cell_type": "markdown",
   "id": "42abcbc5",
   "metadata": {},
   "source": [
    "## Data Discriptions\n",
    "- Survived: \t0 = No, 1 = Yes  \n",
    "- pclass: \tTicket class\t1 = 1st, 2 = 2nd, 3 = 3rd  \t\n",
    "- sibsp:\t# of siblings / spouses aboard the Titanic  \t\n",
    "- parch:\t# of parents / children aboard the Titanic  \t\n",
    "- ticket:\tTicket number\t\n",
    "- cabin:\tCabin number\t\n",
    "- embarked:\tPort of Embarkation\tC = Cherbourg, Q = Queenstown, S = Southampton  "
   ]
  },
  {
   "cell_type": "code",
   "execution_count": 4,
   "id": "ec238969",
   "metadata": {
    "ExecuteTime": {
     "end_time": "2021-08-07T14:58:47.582888Z",
     "start_time": "2021-08-07T14:58:47.554342Z"
    }
   },
   "outputs": [
    {
     "data": {
      "text/plain": [
       "(891, 12)"
      ]
     },
     "execution_count": 4,
     "metadata": {},
     "output_type": "execute_result"
    }
   ],
   "source": [
    "train.head()\n",
    "train.columns\n",
    "train.shape"
   ]
  },
  {
   "cell_type": "markdown",
   "id": "8661e678",
   "metadata": {},
   "source": [
    "### PassengerId"
   ]
  },
  {
   "cell_type": "code",
   "execution_count": 5,
   "id": "a28affc4",
   "metadata": {
    "ExecuteTime": {
     "end_time": "2021-08-06T17:13:50.859023Z",
     "start_time": "2021-08-06T17:13:50.839016Z"
    }
   },
   "outputs": [],
   "source": [
    "train[\"PassengerId\"].head()\n",
    "train[\"PassengerId\"].shape\n",
    "\n",
    "train.drop([\"PassengerId\"],axis=1,inplace=True)\n",
    "test.drop([\"PassengerId\"],axis=1,inplace=True)"
   ]
  },
  {
   "cell_type": "markdown",
   "id": "04faec8b",
   "metadata": {},
   "source": [
    "### Pclass"
   ]
  },
  {
   "cell_type": "code",
   "execution_count": 207,
   "id": "74f3098b",
   "metadata": {
    "ExecuteTime": {
     "end_time": "2021-08-06T17:13:51.376581Z",
     "start_time": "2021-08-06T17:13:51.340213Z"
    }
   },
   "outputs": [
    {
     "data": {
      "text/plain": [
       "3    218\n",
       "1    107\n",
       "2     93\n",
       "Name: Pclass, dtype: int64"
      ]
     },
     "execution_count": 207,
     "metadata": {},
     "output_type": "execute_result"
    }
   ],
   "source": [
    "train[\"Pclass\"].head()    \n",
    "train[\"Pclass\"].dtype           ## int & var-type= ordinal category\n",
    "train[\"Pclass\"].isna().sum()    # No null value\n",
    "train[\"Pclass\"].isna().sum()    # No null value\n",
    "\n",
    "train[\"Pclass\"].value_counts()  # 1:216; 2:184; 3:491\n",
    "test[\"Pclass\"].value_counts()  # 1:107; 2:93; 3:218"
   ]
  },
  {
   "cell_type": "code",
   "execution_count": 208,
   "id": "3443a77c",
   "metadata": {
    "ExecuteTime": {
     "end_time": "2021-08-06T17:13:52.424457Z",
     "start_time": "2021-08-06T17:13:51.766263Z"
    }
   },
   "outputs": [
    {
     "name": "stdout",
     "output_type": "stream",
     "text": [
      "Probably independent(H1)\n"
     ]
    },
    {
     "data": {
      "text/plain": [
       "(-0.3235331843940954, 3.932785644652632e-24)"
      ]
     },
     "execution_count": 208,
     "metadata": {},
     "output_type": "execute_result"
    },
    {
     "data": {
      "image/png": "[encoded data removed]",
      "text/plain": [
       "<Figure size 432x288 with 1 Axes>"
      ]
     },
     "metadata": {
      "needs_background": "light"
     },
     "output_type": "display_data"
    }
   ],
   "source": [
    "## visualization\n",
    "sns.countplot(x=train[\"Pclass\"],hue=train[\"Survived\"],data=train)\n",
    "\n",
    "pd.crosstab(train[\"Survived\"],train[\"Pclass\"])\n",
    "\n",
    "# Survival Rates with in each class: class1=.63; class2=.47; class3=.24\n",
    "# Survival Rates from total survived(342): class1=.39; class2=.25; class3=.34\n",
    "\n",
    "## Correlation: As both features are ordinal\n",
    "import scipy\n",
    "\n",
    "cor,p_value=scipy.stats.kendalltau(train[\"Pclass\"],train[\"Survived\"])  # cor: Kendall's tau   & p_val: p-value\n",
    "if p_value > 0.05:\n",
    "    print('Probably independent(H0)')\n",
    "else:\n",
    "    print('Probably independent(H1)')\n",
    "cor,p_value\n"
   ]
  },
  {
   "cell_type": "code",
   "execution_count": 209,
   "id": "3d23971d",
   "metadata": {
    "ExecuteTime": {
     "end_time": "2021-08-06T17:13:52.809760Z",
     "start_time": "2021-08-06T17:13:52.796174Z"
    }
   },
   "outputs": [],
   "source": [
    "# Summary\n",
    "# Shows class-3 people tends to less survival chances\n",
    "# Shows class-1 people tends to more survival chances"
   ]
  },
  {
   "cell_type": "markdown",
   "id": "3e5abf13",
   "metadata": {},
   "source": [
    "### Name"
   ]
  },
  {
   "cell_type": "code",
   "execution_count": 210,
   "id": "2e59c547",
   "metadata": {
    "ExecuteTime": {
     "end_time": "2021-08-06T17:13:53.217283Z",
     "start_time": "2021-08-06T17:13:53.193767Z"
    }
   },
   "outputs": [],
   "source": [
    "train.drop([\"Name\"],axis=1,inplace=True)\n",
    "test.drop([\"Name\"],axis=1,inplace=True)"
   ]
  },
  {
   "cell_type": "code",
   "execution_count": 211,
   "id": "2dc6fac9",
   "metadata": {
    "ExecuteTime": {
     "end_time": "2021-08-06T17:13:53.664784Z",
     "start_time": "2021-08-06T17:13:53.615436Z"
    }
   },
   "outputs": [
    {
     "data": {
      "text/html": [
       "<div>\n",
       "<style scoped>\n",
       "    .dataframe tbody tr th:only-of-type {\n",
       "        vertical-align: middle;\n",
       "    }\n",
       "\n",
       "    .dataframe tbody tr th {\n",
       "        vertical-align: top;\n",
       "    }\n",
       "\n",
       "    .dataframe thead th {\n",
       "        text-align: right;\n",
       "    }\n",
       "</style>\n",
       "<table border=\"1\" class=\"dataframe\">\n",
       "  <thead>\n",
       "    <tr style=\"text-align: right;\">\n",
       "      <th></th>\n",
       "      <th>Survived</th>\n",
       "      <th>Pclass</th>\n",
       "      <th>Sex</th>\n",
       "      <th>Age</th>\n",
       "      <th>SibSp</th>\n",
       "      <th>Parch</th>\n",
       "      <th>Ticket</th>\n",
       "      <th>Fare</th>\n",
       "      <th>Cabin</th>\n",
       "      <th>Embarked</th>\n",
       "    </tr>\n",
       "  </thead>\n",
       "  <tbody>\n",
       "    <tr>\n",
       "      <th>0</th>\n",
       "      <td>0</td>\n",
       "      <td>3</td>\n",
       "      <td>male</td>\n",
       "      <td>22.0</td>\n",
       "      <td>1</td>\n",
       "      <td>0</td>\n",
       "      <td>A/5 21171</td>\n",
       "      <td>7.2500</td>\n",
       "      <td>NaN</td>\n",
       "      <td>S</td>\n",
       "    </tr>\n",
       "    <tr>\n",
       "      <th>1</th>\n",
       "      <td>1</td>\n",
       "      <td>1</td>\n",
       "      <td>female</td>\n",
       "      <td>38.0</td>\n",
       "      <td>1</td>\n",
       "      <td>0</td>\n",
       "      <td>PC 17599</td>\n",
       "      <td>71.2833</td>\n",
       "      <td>C85</td>\n",
       "      <td>C</td>\n",
       "    </tr>\n",
       "    <tr>\n",
       "      <th>2</th>\n",
       "      <td>1</td>\n",
       "      <td>3</td>\n",
       "      <td>female</td>\n",
       "      <td>26.0</td>\n",
       "      <td>0</td>\n",
       "      <td>0</td>\n",
       "      <td>STON/O2. 3101282</td>\n",
       "      <td>7.9250</td>\n",
       "      <td>NaN</td>\n",
       "      <td>S</td>\n",
       "    </tr>\n",
       "    <tr>\n",
       "      <th>3</th>\n",
       "      <td>1</td>\n",
       "      <td>1</td>\n",
       "      <td>female</td>\n",
       "      <td>35.0</td>\n",
       "      <td>1</td>\n",
       "      <td>0</td>\n",
       "      <td>113803</td>\n",
       "      <td>53.1000</td>\n",
       "      <td>C123</td>\n",
       "      <td>S</td>\n",
       "    </tr>\n",
       "    <tr>\n",
       "      <th>4</th>\n",
       "      <td>0</td>\n",
       "      <td>3</td>\n",
       "      <td>male</td>\n",
       "      <td>35.0</td>\n",
       "      <td>0</td>\n",
       "      <td>0</td>\n",
       "      <td>373450</td>\n",
       "      <td>8.0500</td>\n",
       "      <td>NaN</td>\n",
       "      <td>S</td>\n",
       "    </tr>\n",
       "  </tbody>\n",
       "</table>\n",
       "</div>"
      ],
      "text/plain": [
       "   Survived  Pclass     Sex   Age  SibSp  Parch            Ticket     Fare  \\\n",
       "0         0       3    male  22.0      1      0         A/5 21171   7.2500   \n",
       "1         1       1  female  38.0      1      0          PC 17599  71.2833   \n",
       "2         1       3  female  26.0      0      0  STON/O2. 3101282   7.9250   \n",
       "3         1       1  female  35.0      1      0            113803  53.1000   \n",
       "4         0       3    male  35.0      0      0            373450   8.0500   \n",
       "\n",
       "  Cabin Embarked  \n",
       "0   NaN        S  \n",
       "1   C85        C  \n",
       "2   NaN        S  \n",
       "3  C123        S  \n",
       "4   NaN        S  "
      ]
     },
     "execution_count": 211,
     "metadata": {},
     "output_type": "execute_result"
    }
   ],
   "source": [
    "train.head()"
   ]
  },
  {
   "cell_type": "code",
   "execution_count": 212,
   "id": "f9f45eff",
   "metadata": {
    "ExecuteTime": {
     "end_time": "2021-08-06T17:13:54.162941Z",
     "start_time": "2021-08-06T17:13:54.030056Z"
    }
   },
   "outputs": [
    {
     "data": {
      "text/html": [
       "<div>\n",
       "<style scoped>\n",
       "    .dataframe tbody tr th:only-of-type {\n",
       "        vertical-align: middle;\n",
       "    }\n",
       "\n",
       "    .dataframe tbody tr th {\n",
       "        vertical-align: top;\n",
       "    }\n",
       "\n",
       "    .dataframe thead th {\n",
       "        text-align: right;\n",
       "    }\n",
       "</style>\n",
       "<table border=\"1\" class=\"dataframe\">\n",
       "  <thead>\n",
       "    <tr style=\"text-align: right;\">\n",
       "      <th></th>\n",
       "      <th>Pclass</th>\n",
       "      <th>Sex</th>\n",
       "      <th>Age</th>\n",
       "      <th>SibSp</th>\n",
       "      <th>Parch</th>\n",
       "      <th>Ticket</th>\n",
       "      <th>Fare</th>\n",
       "      <th>Cabin</th>\n",
       "      <th>Embarked</th>\n",
       "    </tr>\n",
       "  </thead>\n",
       "  <tbody>\n",
       "    <tr>\n",
       "      <th>0</th>\n",
       "      <td>3</td>\n",
       "      <td>0</td>\n",
       "      <td>34.5</td>\n",
       "      <td>0</td>\n",
       "      <td>0</td>\n",
       "      <td>330911</td>\n",
       "      <td>7.8292</td>\n",
       "      <td>NaN</td>\n",
       "      <td>Q</td>\n",
       "    </tr>\n",
       "    <tr>\n",
       "      <th>1</th>\n",
       "      <td>3</td>\n",
       "      <td>1</td>\n",
       "      <td>47.0</td>\n",
       "      <td>1</td>\n",
       "      <td>0</td>\n",
       "      <td>363272</td>\n",
       "      <td>7.0000</td>\n",
       "      <td>NaN</td>\n",
       "      <td>S</td>\n",
       "    </tr>\n",
       "    <tr>\n",
       "      <th>2</th>\n",
       "      <td>2</td>\n",
       "      <td>0</td>\n",
       "      <td>62.0</td>\n",
       "      <td>0</td>\n",
       "      <td>0</td>\n",
       "      <td>240276</td>\n",
       "      <td>9.6875</td>\n",
       "      <td>NaN</td>\n",
       "      <td>Q</td>\n",
       "    </tr>\n",
       "    <tr>\n",
       "      <th>3</th>\n",
       "      <td>3</td>\n",
       "      <td>0</td>\n",
       "      <td>27.0</td>\n",
       "      <td>0</td>\n",
       "      <td>0</td>\n",
       "      <td>315154</td>\n",
       "      <td>8.6625</td>\n",
       "      <td>NaN</td>\n",
       "      <td>S</td>\n",
       "    </tr>\n",
       "    <tr>\n",
       "      <th>4</th>\n",
       "      <td>3</td>\n",
       "      <td>1</td>\n",
       "      <td>22.0</td>\n",
       "      <td>1</td>\n",
       "      <td>1</td>\n",
       "      <td>3101298</td>\n",
       "      <td>12.2875</td>\n",
       "      <td>NaN</td>\n",
       "      <td>S</td>\n",
       "    </tr>\n",
       "    <tr>\n",
       "      <th>...</th>\n",
       "      <td>...</td>\n",
       "      <td>...</td>\n",
       "      <td>...</td>\n",
       "      <td>...</td>\n",
       "      <td>...</td>\n",
       "      <td>...</td>\n",
       "      <td>...</td>\n",
       "      <td>...</td>\n",
       "      <td>...</td>\n",
       "    </tr>\n",
       "    <tr>\n",
       "      <th>413</th>\n",
       "      <td>3</td>\n",
       "      <td>0</td>\n",
       "      <td>NaN</td>\n",
       "      <td>0</td>\n",
       "      <td>0</td>\n",
       "      <td>A.5. 3236</td>\n",
       "      <td>8.0500</td>\n",
       "      <td>NaN</td>\n",
       "      <td>S</td>\n",
       "    </tr>\n",
       "    <tr>\n",
       "      <th>414</th>\n",
       "      <td>1</td>\n",
       "      <td>1</td>\n",
       "      <td>39.0</td>\n",
       "      <td>0</td>\n",
       "      <td>0</td>\n",
       "      <td>PC 17758</td>\n",
       "      <td>108.9000</td>\n",
       "      <td>C105</td>\n",
       "      <td>C</td>\n",
       "    </tr>\n",
       "    <tr>\n",
       "      <th>415</th>\n",
       "      <td>3</td>\n",
       "      <td>0</td>\n",
       "      <td>38.5</td>\n",
       "      <td>0</td>\n",
       "      <td>0</td>\n",
       "      <td>SOTON/O.Q. 3101262</td>\n",
       "      <td>7.2500</td>\n",
       "      <td>NaN</td>\n",
       "      <td>S</td>\n",
       "    </tr>\n",
       "    <tr>\n",
       "      <th>416</th>\n",
       "      <td>3</td>\n",
       "      <td>0</td>\n",
       "      <td>NaN</td>\n",
       "      <td>0</td>\n",
       "      <td>0</td>\n",
       "      <td>359309</td>\n",
       "      <td>8.0500</td>\n",
       "      <td>NaN</td>\n",
       "      <td>S</td>\n",
       "    </tr>\n",
       "    <tr>\n",
       "      <th>417</th>\n",
       "      <td>3</td>\n",
       "      <td>0</td>\n",
       "      <td>NaN</td>\n",
       "      <td>1</td>\n",
       "      <td>1</td>\n",
       "      <td>2668</td>\n",
       "      <td>22.3583</td>\n",
       "      <td>NaN</td>\n",
       "      <td>C</td>\n",
       "    </tr>\n",
       "  </tbody>\n",
       "</table>\n",
       "<p>418 rows × 9 columns</p>\n",
       "</div>"
      ],
      "text/plain": [
       "     Pclass  Sex   Age  SibSp  Parch              Ticket      Fare Cabin  \\\n",
       "0         3    0  34.5      0      0              330911    7.8292   NaN   \n",
       "1         3    1  47.0      1      0              363272    7.0000   NaN   \n",
       "2         2    0  62.0      0      0              240276    9.6875   NaN   \n",
       "3         3    0  27.0      0      0              315154    8.6625   NaN   \n",
       "4         3    1  22.0      1      1             3101298   12.2875   NaN   \n",
       "..      ...  ...   ...    ...    ...                 ...       ...   ...   \n",
       "413       3    0   NaN      0      0           A.5. 3236    8.0500   NaN   \n",
       "414       1    1  39.0      0      0            PC 17758  108.9000  C105   \n",
       "415       3    0  38.5      0      0  SOTON/O.Q. 3101262    7.2500   NaN   \n",
       "416       3    0   NaN      0      0              359309    8.0500   NaN   \n",
       "417       3    0   NaN      1      1                2668   22.3583   NaN   \n",
       "\n",
       "    Embarked  \n",
       "0          Q  \n",
       "1          S  \n",
       "2          Q  \n",
       "3          S  \n",
       "4          S  \n",
       "..       ...  \n",
       "413        S  \n",
       "414        C  \n",
       "415        S  \n",
       "416        S  \n",
       "417        C  \n",
       "\n",
       "[418 rows x 9 columns]"
      ]
     },
     "execution_count": 212,
     "metadata": {},
     "output_type": "execute_result"
    }
   ],
   "source": [
    "## Sex\n",
    "train[\"Sex\"].shape            # total record 891\n",
    "train[\"Sex\"].isna().sum()     # No null values\n",
    "test[\"Sex\"].isna().sum()     # No null values\n",
    "\n",
    "train[\"Sex\"].value_counts()  # male:577; female:314\n",
    "test[\"Sex\"].value_counts()  # male:266; female:152\n",
    "\n",
    "pd.crosstab(train[\"Survived\"],train[\"Sex\"])\n",
    "# Survival ratio from all survived(342): Female=.68; Male=32 \n",
    "\n",
    "# Ordinal Encoding : Male=0 ; Female=1\n",
    "def sex_encoder(data):\n",
    "    mapper={\"male\":0,\"female\":1}  \n",
    "    data[\"Sex\"]=data[\"Sex\"].replace(mapper) \n",
    "    return data\n",
    "\n",
    "sex_encoder(train)\n",
    "sex_encoder(test)"
   ]
  },
  {
   "cell_type": "code",
   "execution_count": 213,
   "id": "cec7eec1",
   "metadata": {
    "ExecuteTime": {
     "end_time": "2021-08-06T17:13:55.001516Z",
     "start_time": "2021-08-06T17:13:54.507918Z"
    }
   },
   "outputs": [
    {
     "data": {
      "text/plain": [
       "<AxesSubplot:xlabel='Sex', ylabel='count'>"
      ]
     },
     "execution_count": 213,
     "metadata": {},
     "output_type": "execute_result"
    },
    {
     "data": {
      "image/png": "[encoded data removed]",
      "text/plain": [
       "<Figure size 432x288 with 1 Axes>"
      ]
     },
     "metadata": {
      "needs_background": "light"
     },
     "output_type": "display_data"
    }
   ],
   "source": [
    "## visualization\n",
    "sns.countplot(x=train[\"Sex\"],hue=train[\"Survived\"],data=train)"
   ]
  },
  {
   "cell_type": "code",
   "execution_count": 214,
   "id": "b13cdb83",
   "metadata": {
    "ExecuteTime": {
     "end_time": "2021-08-06T17:13:55.403906Z",
     "start_time": "2021-08-06T17:13:55.391115Z"
    }
   },
   "outputs": [],
   "source": [
    "##   Summary\n",
    "# Females are more likely to survive from this disaster"
   ]
  },
  {
   "cell_type": "markdown",
   "id": "715d1417",
   "metadata": {},
   "source": [
    "### Age"
   ]
  },
  {
   "cell_type": "code",
   "execution_count": 215,
   "id": "681932c2",
   "metadata": {
    "ExecuteTime": {
     "end_time": "2021-08-06T17:13:55.868823Z",
     "start_time": "2021-08-06T17:13:55.794513Z"
    }
   },
   "outputs": [],
   "source": [
    "train[\"Age\"].isna().sum()    # 177 Null values\n",
    "test[\"Age\"].isna().sum()    # 86 Null values\n",
    "train[\"Age\"].describe()      \n",
    "\n",
    "## Rounding Age values \n",
    "train[\"Age\"]=round(train[\"Age\"])+1\n",
    "test[\"Age\"]=round(test[\"Age\"])+1\n",
    "\n",
    "## Impute missing values\n",
    "from sklearn.impute import SimpleImputer\n",
    "imputer=SimpleImputer(missing_values=np.nan,strategy='median')\n",
    "train[\"Age\"]=imputer.fit_transform(train[[\"Age\"]])\n",
    "test[\"Age\"]=imputer.fit_transform(test[[\"Age\"]])\n",
    "\n",
    "## Changing type\n",
    "train['Age']=train['Age'].astype(int)\n",
    "test['Age']=test['Age'].astype(int)\n"
   ]
  },
  {
   "cell_type": "code",
   "execution_count": 216,
   "id": "c2e278ad",
   "metadata": {
    "ExecuteTime": {
     "end_time": "2021-08-06T17:13:56.685738Z",
     "start_time": "2021-08-06T17:13:56.216936Z"
    }
   },
   "outputs": [
    {
     "data": {
      "text/plain": [
       "<AxesSubplot:xlabel='Age', ylabel='Density'>"
      ]
     },
     "execution_count": 216,
     "metadata": {},
     "output_type": "execute_result"
    },
    {
     "data": {
      "image/png": "[encoded data removed]",
      "text/plain": [
       "<Figure size 432x288 with 1 Axes>"
      ]
     },
     "metadata": {
      "needs_background": "light"
     },
     "output_type": "display_data"
    }
   ],
   "source": [
    "## Plot\n",
    "sns.kdeplot(x=train[\"Age\"],data=train)    # Along X-axis\n"
   ]
  },
  {
   "cell_type": "markdown",
   "id": "52736e1d",
   "metadata": {},
   "source": [
    "### SibSp:"
   ]
  },
  {
   "cell_type": "code",
   "execution_count": 217,
   "id": "63f59c56",
   "metadata": {
    "ExecuteTime": {
     "end_time": "2021-08-06T17:13:57.161423Z",
     "start_time": "2021-08-06T17:13:57.041815Z"
    }
   },
   "outputs": [
    {
     "name": "stdout",
     "output_type": "stream",
     "text": [
      "<class 'pandas.core.frame.DataFrame'>\n",
      "RangeIndex: 891 entries, 0 to 890\n",
      "Data columns (total 1 columns):\n",
      " #   Column  Non-Null Count  Dtype\n",
      "---  ------  --------------  -----\n",
      " 0   SibSp   891 non-null    int64\n",
      "dtypes: int64(1)\n",
      "memory usage: 7.1 KB\n"
     ]
    },
    {
     "data": {
      "text/html": [
       "<div>\n",
       "<style scoped>\n",
       "    .dataframe tbody tr th:only-of-type {\n",
       "        vertical-align: middle;\n",
       "    }\n",
       "\n",
       "    .dataframe tbody tr th {\n",
       "        vertical-align: top;\n",
       "    }\n",
       "\n",
       "    .dataframe thead th {\n",
       "        text-align: right;\n",
       "    }\n",
       "</style>\n",
       "<table border=\"1\" class=\"dataframe\">\n",
       "  <thead>\n",
       "    <tr style=\"text-align: right;\">\n",
       "      <th>SibSp</th>\n",
       "      <th>0</th>\n",
       "      <th>1</th>\n",
       "      <th>2</th>\n",
       "      <th>3</th>\n",
       "      <th>4</th>\n",
       "      <th>5</th>\n",
       "      <th>8</th>\n",
       "    </tr>\n",
       "    <tr>\n",
       "      <th>Survived</th>\n",
       "      <th></th>\n",
       "      <th></th>\n",
       "      <th></th>\n",
       "      <th></th>\n",
       "      <th></th>\n",
       "      <th></th>\n",
       "      <th></th>\n",
       "    </tr>\n",
       "  </thead>\n",
       "  <tbody>\n",
       "    <tr>\n",
       "      <th>0</th>\n",
       "      <td>398</td>\n",
       "      <td>97</td>\n",
       "      <td>15</td>\n",
       "      <td>12</td>\n",
       "      <td>15</td>\n",
       "      <td>5</td>\n",
       "      <td>7</td>\n",
       "    </tr>\n",
       "    <tr>\n",
       "      <th>1</th>\n",
       "      <td>210</td>\n",
       "      <td>112</td>\n",
       "      <td>13</td>\n",
       "      <td>4</td>\n",
       "      <td>3</td>\n",
       "      <td>0</td>\n",
       "      <td>0</td>\n",
       "    </tr>\n",
       "  </tbody>\n",
       "</table>\n",
       "</div>"
      ],
      "text/plain": [
       "SibSp       0    1   2   3   4  5  8\n",
       "Survived                            \n",
       "0         398   97  15  12  15  5  7\n",
       "1         210  112  13   4   3  0  0"
      ]
     },
     "execution_count": 217,
     "metadata": {},
     "output_type": "execute_result"
    }
   ],
   "source": [
    "train[\"SibSp\"].head()\n",
    "\n",
    "train[\"SibSp\"].isna().sum() # No null values\n",
    "test[\"SibSp\"].isna().sum() # No null values\n",
    "\n",
    "train[[\"SibSp\"]].info()     # int dtype\n",
    "\n",
    "train[\"SibSp\"].describe()\n",
    "\n",
    "train[\"SibSp\"].value_counts()  # [0,1,2,3,4,5,8]\n",
    "pd.crosstab(train[\"Survived\"],train[\"SibSp\"])\n"
   ]
  },
  {
   "cell_type": "code",
   "execution_count": 218,
   "id": "f2024079",
   "metadata": {
    "ExecuteTime": {
     "end_time": "2021-08-06T17:13:58.214376Z",
     "start_time": "2021-08-06T17:13:57.545430Z"
    }
   },
   "outputs": [
    {
     "data": {
      "text/plain": [
       "<AxesSubplot:xlabel='SibSp', ylabel='count'>"
      ]
     },
     "execution_count": 218,
     "metadata": {},
     "output_type": "execute_result"
    },
    {
     "data": {
      "image/png": "[encoded data removed]",
      "text/plain": [
       "<Figure size 432x288 with 1 Axes>"
      ]
     },
     "metadata": {
      "needs_background": "light"
     },
     "output_type": "display_data"
    }
   ],
   "source": [
    "## ploting\n",
    "sns.countplot(x=train[\"SibSp\"],hue=train[\"Survived\"],data=train)"
   ]
  },
  {
   "cell_type": "code",
   "execution_count": 219,
   "id": "c1e18977",
   "metadata": {
    "ExecuteTime": {
     "end_time": "2021-08-06T17:13:58.574587Z",
     "start_time": "2021-08-06T17:13:58.553937Z"
    }
   },
   "outputs": [],
   "source": [
    "## Summary\n",
    "# travelling Alone(608) & Survuved(210) : .35\n",
    "# travelling Not-Alone(283) & Survuved(132) : .47\n",
    "\n",
    "# Travelling alone less survival chances"
   ]
  },
  {
   "cell_type": "markdown",
   "id": "7640102c",
   "metadata": {},
   "source": [
    "### Parch"
   ]
  },
  {
   "cell_type": "code",
   "execution_count": 220,
   "id": "e6d4fefd",
   "metadata": {
    "ExecuteTime": {
     "end_time": "2021-08-06T17:13:59.006301Z",
     "start_time": "2021-08-06T17:13:58.895960Z"
    }
   },
   "outputs": [
    {
     "name": "stdout",
     "output_type": "stream",
     "text": [
      "<class 'pandas.core.frame.DataFrame'>\n",
      "RangeIndex: 891 entries, 0 to 890\n",
      "Data columns (total 1 columns):\n",
      " #   Column  Non-Null Count  Dtype\n",
      "---  ------  --------------  -----\n",
      " 0   Parch   891 non-null    int64\n",
      "dtypes: int64(1)\n",
      "memory usage: 7.1 KB\n"
     ]
    },
    {
     "data": {
      "text/html": [
       "<div>\n",
       "<style scoped>\n",
       "    .dataframe tbody tr th:only-of-type {\n",
       "        vertical-align: middle;\n",
       "    }\n",
       "\n",
       "    .dataframe tbody tr th {\n",
       "        vertical-align: top;\n",
       "    }\n",
       "\n",
       "    .dataframe thead th {\n",
       "        text-align: right;\n",
       "    }\n",
       "</style>\n",
       "<table border=\"1\" class=\"dataframe\">\n",
       "  <thead>\n",
       "    <tr style=\"text-align: right;\">\n",
       "      <th>Parch</th>\n",
       "      <th>0</th>\n",
       "      <th>1</th>\n",
       "      <th>2</th>\n",
       "      <th>3</th>\n",
       "      <th>4</th>\n",
       "      <th>5</th>\n",
       "      <th>6</th>\n",
       "    </tr>\n",
       "    <tr>\n",
       "      <th>Survived</th>\n",
       "      <th></th>\n",
       "      <th></th>\n",
       "      <th></th>\n",
       "      <th></th>\n",
       "      <th></th>\n",
       "      <th></th>\n",
       "      <th></th>\n",
       "    </tr>\n",
       "  </thead>\n",
       "  <tbody>\n",
       "    <tr>\n",
       "      <th>0</th>\n",
       "      <td>445</td>\n",
       "      <td>53</td>\n",
       "      <td>40</td>\n",
       "      <td>2</td>\n",
       "      <td>4</td>\n",
       "      <td>4</td>\n",
       "      <td>1</td>\n",
       "    </tr>\n",
       "    <tr>\n",
       "      <th>1</th>\n",
       "      <td>233</td>\n",
       "      <td>65</td>\n",
       "      <td>40</td>\n",
       "      <td>3</td>\n",
       "      <td>0</td>\n",
       "      <td>1</td>\n",
       "      <td>0</td>\n",
       "    </tr>\n",
       "  </tbody>\n",
       "</table>\n",
       "</div>"
      ],
      "text/plain": [
       "Parch       0   1   2  3  4  5  6\n",
       "Survived                         \n",
       "0         445  53  40  2  4  4  1\n",
       "1         233  65  40  3  0  1  0"
      ]
     },
     "execution_count": 220,
     "metadata": {},
     "output_type": "execute_result"
    }
   ],
   "source": [
    "train[\"Parch\"].head()\n",
    "\n",
    "train[\"Parch\"].isna().sum()     # No null value\n",
    "test[\"Parch\"].isna().sum()     # No null value\n",
    "\n",
    "train[[\"Parch\"]].info()         # int dtype\n",
    "\n",
    "train[\"Parch\"].describe()\n",
    "\n",
    "train[\"Parch\"].value_counts()  # [0,1,2,3,4,5,8]\n",
    "pd.crosstab(train[\"Survived\"],train[\"Parch\"])"
   ]
  },
  {
   "cell_type": "code",
   "execution_count": 221,
   "id": "e72ec22d",
   "metadata": {
    "ExecuteTime": {
     "end_time": "2021-08-06T17:13:59.930472Z",
     "start_time": "2021-08-06T17:13:59.341860Z"
    }
   },
   "outputs": [
    {
     "data": {
      "text/plain": [
       "<AxesSubplot:xlabel='Parch', ylabel='count'>"
      ]
     },
     "execution_count": 221,
     "metadata": {},
     "output_type": "execute_result"
    },
    {
     "data": {
      "image/png": "[encoded data removed]",
      "text/plain": [
       "<Figure size 432x288 with 1 Axes>"
      ]
     },
     "metadata": {
      "needs_background": "light"
     },
     "output_type": "display_data"
    }
   ],
   "source": [
    "## ploting\n",
    "sns.countplot(x=train[\"Parch\"],hue=train[\"Survived\"],data=train)"
   ]
  },
  {
   "cell_type": "code",
   "execution_count": 222,
   "id": "c6307504",
   "metadata": {
    "ExecuteTime": {
     "end_time": "2021-08-06T17:14:00.278643Z",
     "start_time": "2021-08-06T17:14:00.268759Z"
    }
   },
   "outputs": [],
   "source": [
    "## Summary\n",
    "# travelling Alone(678) & Survuved : .34\n",
    "# travelling Not-Alone(213) & Survuved : .51\n",
    "\n",
    "# Travelling alone less survival chances"
   ]
  },
  {
   "cell_type": "markdown",
   "id": "2f0f4016",
   "metadata": {},
   "source": [
    "### Ticket :"
   ]
  },
  {
   "cell_type": "code",
   "execution_count": 223,
   "id": "8fd7d2f0",
   "metadata": {
    "ExecuteTime": {
     "end_time": "2021-08-06T17:14:00.640957Z",
     "start_time": "2021-08-06T17:14:00.613888Z"
    }
   },
   "outputs": [],
   "source": [
    "train.drop([\"Ticket\"],axis=1,inplace=True)\n",
    "test.drop([\"Ticket\"],axis=1,inplace=True)"
   ]
  },
  {
   "cell_type": "markdown",
   "id": "175d7d98",
   "metadata": {},
   "source": [
    "## Fare :"
   ]
  },
  {
   "cell_type": "code",
   "execution_count": 224,
   "id": "6d4c612c",
   "metadata": {
    "ExecuteTime": {
     "end_time": "2021-08-06T17:14:01.061502Z",
     "start_time": "2021-08-06T17:14:00.980560Z"
    }
   },
   "outputs": [
    {
     "name": "stdout",
     "output_type": "stream",
     "text": [
      "<class 'pandas.core.frame.DataFrame'>\n",
      "RangeIndex: 891 entries, 0 to 890\n",
      "Data columns (total 1 columns):\n",
      " #   Column  Non-Null Count  Dtype  \n",
      "---  ------  --------------  -----  \n",
      " 0   Fare    891 non-null    float64\n",
      "dtypes: float64(1)\n",
      "memory usage: 7.1 KB\n"
     ]
    },
    {
     "data": {
      "text/plain": [
       "count    418.000000\n",
       "mean      35.576535\n",
       "std       55.850103\n",
       "min        0.000000\n",
       "25%        7.895800\n",
       "50%       14.454200\n",
       "75%       31.471875\n",
       "max      512.329200\n",
       "Name: Fare, dtype: float64"
      ]
     },
     "execution_count": 224,
     "metadata": {},
     "output_type": "execute_result"
    }
   ],
   "source": [
    "train[\"Fare\"].head()\n",
    "\n",
    "train[\"Fare\"].isna().sum()    # No null values\n",
    "test[\"Fare\"].isna().sum()    # 1\n",
    "\n",
    "## Impute missing values\n",
    "from sklearn.impute import SimpleImputer\n",
    "imputer=SimpleImputer(missing_values=np.nan,strategy='median')\n",
    "test[\"Fare\"]=imputer.fit_transform(test[[\"Fare\"]])\n",
    "\n",
    "train[[\"Fare\"]].info()        # int dtype\n",
    "\n",
    "test[\"Fare\"].describe()"
   ]
  },
  {
   "cell_type": "code",
   "execution_count": 225,
   "id": "91db7343",
   "metadata": {
    "ExecuteTime": {
     "end_time": "2021-08-06T17:14:01.850092Z",
     "start_time": "2021-08-06T17:14:01.368116Z"
    }
   },
   "outputs": [
    {
     "data": {
      "text/plain": [
       "<AxesSubplot:xlabel='Fare', ylabel='Density'>"
      ]
     },
     "execution_count": 225,
     "metadata": {},
     "output_type": "execute_result"
    },
    {
     "data": {
      "image/png": "[encoded data removed]",
      "text/plain": [
       "<Figure size 432x288 with 1 Axes>"
      ]
     },
     "metadata": {
      "needs_background": "light"
     },
     "output_type": "display_data"
    }
   ],
   "source": [
    "## Plot\n",
    "sns.kdeplot(x=\"Fare\",data=train)    # Along X-axis\n"
   ]
  },
  {
   "cell_type": "markdown",
   "id": "a0f10c6e",
   "metadata": {},
   "source": [
    "### Cabin "
   ]
  },
  {
   "cell_type": "code",
   "execution_count": 226,
   "id": "c6d80413",
   "metadata": {
    "ExecuteTime": {
     "end_time": "2021-08-06T17:14:02.172379Z",
     "start_time": "2021-08-06T17:14:02.143786Z"
    }
   },
   "outputs": [],
   "source": [
    "train[\"Cabin\"].head()\n",
    "\n",
    "train[\"Cabin\"].isna().sum()    # 687\n",
    "test[\"Cabin\"].isna().sum()    # 327\n",
    "\n",
    "train.drop([\"Cabin\"],axis=1,inplace=True)\n",
    "test.drop([\"Cabin\"],axis=1,inplace=True)"
   ]
  },
  {
   "cell_type": "markdown",
   "id": "589c2511",
   "metadata": {},
   "source": [
    "### Embarked"
   ]
  },
  {
   "cell_type": "code",
   "execution_count": 227,
   "id": "5a4c1c31",
   "metadata": {
    "ExecuteTime": {
     "end_time": "2021-08-06T17:14:02.595377Z",
     "start_time": "2021-08-06T17:14:02.478068Z"
    }
   },
   "outputs": [
    {
     "name": "stdout",
     "output_type": "stream",
     "text": [
      "<class 'pandas.core.frame.DataFrame'>\n",
      "RangeIndex: 891 entries, 0 to 890\n",
      "Data columns (total 1 columns):\n",
      " #   Column    Non-Null Count  Dtype \n",
      "---  ------    --------------  ----- \n",
      " 0   Embarked  891 non-null    object\n",
      "dtypes: object(1)\n",
      "memory usage: 7.1+ KB\n"
     ]
    }
   ],
   "source": [
    "train[\"Embarked\"].head()\n",
    "\n",
    "train[\"Embarked\"].isna().sum()     # 2\n",
    "test[\"Embarked\"].isna().sum()     # No null value\n",
    "\n",
    "## Filling missing values\n",
    "train[\"Embarked\"].fillna(value=\"C\",inplace=True)\n",
    "\n",
    "train[[\"Embarked\"]].info()         # Ordinal Category\n",
    "\n",
    "train[\"Embarked\"].describe()\n",
    "\n",
    "\n",
    "train[\"Embarked\"].value_counts()  # [\"C\" , \"Q\" , \"S\"]\n",
    "pd.crosstab(train[\"Survived\"],train[\"Embarked\"])\n",
    "\n",
    "# Embarked Encoder\n",
    "def embarked_encoder(data):\n",
    "    df=pd.get_dummies(data=data[\"Embarked\"],prefix='Embarked')\n",
    "    data=pd.concat([data,df],axis=1) \n",
    "    data.drop([\"Embarked\"],axis=1,inplace=True)\n",
    "    return data\n",
    "    \n",
    "train=embarked_encoder(train)\n",
    "test=embarked_encoder(test)\n",
    "\n",
    "#train.Embarked_Q.value_counts()   # 0:814 ; 1:77\n",
    "#train.Embarked_S.value_counts()   # 0:247 ; 1:644 \n",
    "#train.Embarked_C.value_counts()   # 0:721 ; 1:170"
   ]
  },
  {
   "cell_type": "code",
   "execution_count": 228,
   "id": "794c45c0",
   "metadata": {
    "ExecuteTime": {
     "end_time": "2021-08-06T17:14:03.023998Z",
     "start_time": "2021-08-06T17:14:02.923987Z"
    }
   },
   "outputs": [
    {
     "ename": "KeyError",
     "evalue": "'Embarked'",
     "output_type": "error",
     "traceback": [
      "\u001b[1;31m---------------------------------------------------------------------------\u001b[0m",
      "\u001b[1;31mKeyError\u001b[0m                                  Traceback (most recent call last)",
      "\u001b[1;32m~\\anaconda3\\lib\\site-packages\\pandas\\core\\indexes\\base.py\u001b[0m in \u001b[0;36mget_loc\u001b[1;34m(self, key, method, tolerance)\u001b[0m\n\u001b[0;32m   3079\u001b[0m             \u001b[1;32mtry\u001b[0m\u001b[1;33m:\u001b[0m\u001b[1;33m\u001b[0m\u001b[1;33m\u001b[0m\u001b[0m\n\u001b[1;32m-> 3080\u001b[1;33m                 \u001b[1;32mreturn\u001b[0m \u001b[0mself\u001b[0m\u001b[1;33m.\u001b[0m\u001b[0m_engine\u001b[0m\u001b[1;33m.\u001b[0m\u001b[0mget_loc\u001b[0m\u001b[1;33m(\u001b[0m\u001b[0mcasted_key\u001b[0m\u001b[1;33m)\u001b[0m\u001b[1;33m\u001b[0m\u001b[1;33m\u001b[0m\u001b[0m\n\u001b[0m\u001b[0;32m   3081\u001b[0m             \u001b[1;32mexcept\u001b[0m \u001b[0mKeyError\u001b[0m \u001b[1;32mas\u001b[0m \u001b[0merr\u001b[0m\u001b[1;33m:\u001b[0m\u001b[1;33m\u001b[0m\u001b[1;33m\u001b[0m\u001b[0m\n",
      "\u001b[1;32mpandas\\_libs\\index.pyx\u001b[0m in \u001b[0;36mpandas._libs.index.IndexEngine.get_loc\u001b[1;34m()\u001b[0m\n",
      "\u001b[1;32mpandas\\_libs\\index.pyx\u001b[0m in \u001b[0;36mpandas._libs.index.IndexEngine.get_loc\u001b[1;34m()\u001b[0m\n",
      "\u001b[1;32mpandas\\_libs\\hashtable_class_helper.pxi\u001b[0m in \u001b[0;36mpandas._libs.hashtable.PyObjectHashTable.get_item\u001b[1;34m()\u001b[0m\n",
      "\u001b[1;32mpandas\\_libs\\hashtable_class_helper.pxi\u001b[0m in \u001b[0;36mpandas._libs.hashtable.PyObjectHashTable.get_item\u001b[1;34m()\u001b[0m\n",
      "\u001b[1;31mKeyError\u001b[0m: 'Embarked'",
      "\nThe above exception was the direct cause of the following exception:\n",
      "\u001b[1;31mKeyError\u001b[0m                                  Traceback (most recent call last)",
      "\u001b[1;32m<ipython-input-228-9b43fa444140>\u001b[0m in \u001b[0;36m<module>\u001b[1;34m\u001b[0m\n\u001b[0;32m      1\u001b[0m \u001b[1;31m## ploting\u001b[0m\u001b[1;33m\u001b[0m\u001b[1;33m\u001b[0m\u001b[1;33m\u001b[0m\u001b[0m\n\u001b[1;32m----> 2\u001b[1;33m \u001b[0msns\u001b[0m\u001b[1;33m.\u001b[0m\u001b[0mcountplot\u001b[0m\u001b[1;33m(\u001b[0m\u001b[0mx\u001b[0m\u001b[1;33m=\u001b[0m\u001b[0mtrain\u001b[0m\u001b[1;33m[\u001b[0m\u001b[1;34m\"Embarked\"\u001b[0m\u001b[1;33m]\u001b[0m\u001b[1;33m,\u001b[0m\u001b[0mhue\u001b[0m\u001b[1;33m=\u001b[0m\u001b[0mtrain\u001b[0m\u001b[1;33m[\u001b[0m\u001b[1;34m\"Survived\"\u001b[0m\u001b[1;33m]\u001b[0m\u001b[1;33m,\u001b[0m\u001b[0mdata\u001b[0m\u001b[1;33m=\u001b[0m\u001b[0mtrain\u001b[0m\u001b[1;33m)\u001b[0m\u001b[1;33m\u001b[0m\u001b[1;33m\u001b[0m\u001b[0m\n\u001b[0m",
      "\u001b[1;32m~\\anaconda3\\lib\\site-packages\\pandas\\core\\frame.py\u001b[0m in \u001b[0;36m__getitem__\u001b[1;34m(self, key)\u001b[0m\n\u001b[0;32m   3022\u001b[0m             \u001b[1;32mif\u001b[0m \u001b[0mself\u001b[0m\u001b[1;33m.\u001b[0m\u001b[0mcolumns\u001b[0m\u001b[1;33m.\u001b[0m\u001b[0mnlevels\u001b[0m \u001b[1;33m>\u001b[0m \u001b[1;36m1\u001b[0m\u001b[1;33m:\u001b[0m\u001b[1;33m\u001b[0m\u001b[1;33m\u001b[0m\u001b[0m\n\u001b[0;32m   3023\u001b[0m                 \u001b[1;32mreturn\u001b[0m \u001b[0mself\u001b[0m\u001b[1;33m.\u001b[0m\u001b[0m_getitem_multilevel\u001b[0m\u001b[1;33m(\u001b[0m\u001b[0mkey\u001b[0m\u001b[1;33m)\u001b[0m\u001b[1;33m\u001b[0m\u001b[1;33m\u001b[0m\u001b[0m\n\u001b[1;32m-> 3024\u001b[1;33m             \u001b[0mindexer\u001b[0m \u001b[1;33m=\u001b[0m \u001b[0mself\u001b[0m\u001b[1;33m.\u001b[0m\u001b[0mcolumns\u001b[0m\u001b[1;33m.\u001b[0m\u001b[0mget_loc\u001b[0m\u001b[1;33m(\u001b[0m\u001b[0mkey\u001b[0m\u001b[1;33m)\u001b[0m\u001b[1;33m\u001b[0m\u001b[1;33m\u001b[0m\u001b[0m\n\u001b[0m\u001b[0;32m   3025\u001b[0m             \u001b[1;32mif\u001b[0m \u001b[0mis_integer\u001b[0m\u001b[1;33m(\u001b[0m\u001b[0mindexer\u001b[0m\u001b[1;33m)\u001b[0m\u001b[1;33m:\u001b[0m\u001b[1;33m\u001b[0m\u001b[1;33m\u001b[0m\u001b[0m\n\u001b[0;32m   3026\u001b[0m                 \u001b[0mindexer\u001b[0m \u001b[1;33m=\u001b[0m \u001b[1;33m[\u001b[0m\u001b[0mindexer\u001b[0m\u001b[1;33m]\u001b[0m\u001b[1;33m\u001b[0m\u001b[1;33m\u001b[0m\u001b[0m\n",
      "\u001b[1;32m~\\anaconda3\\lib\\site-packages\\pandas\\core\\indexes\\base.py\u001b[0m in \u001b[0;36mget_loc\u001b[1;34m(self, key, method, tolerance)\u001b[0m\n\u001b[0;32m   3080\u001b[0m                 \u001b[1;32mreturn\u001b[0m \u001b[0mself\u001b[0m\u001b[1;33m.\u001b[0m\u001b[0m_engine\u001b[0m\u001b[1;33m.\u001b[0m\u001b[0mget_loc\u001b[0m\u001b[1;33m(\u001b[0m\u001b[0mcasted_key\u001b[0m\u001b[1;33m)\u001b[0m\u001b[1;33m\u001b[0m\u001b[1;33m\u001b[0m\u001b[0m\n\u001b[0;32m   3081\u001b[0m             \u001b[1;32mexcept\u001b[0m \u001b[0mKeyError\u001b[0m \u001b[1;32mas\u001b[0m \u001b[0merr\u001b[0m\u001b[1;33m:\u001b[0m\u001b[1;33m\u001b[0m\u001b[1;33m\u001b[0m\u001b[0m\n\u001b[1;32m-> 3082\u001b[1;33m                 \u001b[1;32mraise\u001b[0m \u001b[0mKeyError\u001b[0m\u001b[1;33m(\u001b[0m\u001b[0mkey\u001b[0m\u001b[1;33m)\u001b[0m \u001b[1;32mfrom\u001b[0m \u001b[0merr\u001b[0m\u001b[1;33m\u001b[0m\u001b[1;33m\u001b[0m\u001b[0m\n\u001b[0m\u001b[0;32m   3083\u001b[0m \u001b[1;33m\u001b[0m\u001b[0m\n\u001b[0;32m   3084\u001b[0m         \u001b[1;32mif\u001b[0m \u001b[0mtolerance\u001b[0m \u001b[1;32mis\u001b[0m \u001b[1;32mnot\u001b[0m \u001b[1;32mNone\u001b[0m\u001b[1;33m:\u001b[0m\u001b[1;33m\u001b[0m\u001b[1;33m\u001b[0m\u001b[0m\n",
      "\u001b[1;31mKeyError\u001b[0m: 'Embarked'"
     ]
    }
   ],
   "source": [
    "## ploting\n",
    "sns.countplot(x=train[\"Embarked\"],hue=train[\"Survived\"],data=train)"
   ]
  },
  {
   "cell_type": "code",
   "execution_count": 232,
   "id": "8f2fe85a",
   "metadata": {
    "ExecuteTime": {
     "end_time": "2021-08-06T17:14:43.829693Z",
     "start_time": "2021-08-06T17:14:43.820907Z"
    }
   },
   "outputs": [],
   "source": [
    "## Summary\n",
    "# Survival rate for Embarked==\"C\" => .55\n",
    "# Survival rate for Embarked==\"S\" => .34\n",
    "# Survival rate for Embarked==\"Q\" => .39\n",
    "\n",
    "# Pepole Embarked from \"Queensland\" having greater survival rate"
   ]
  },
  {
   "cell_type": "markdown",
   "id": "650f3ac8",
   "metadata": {},
   "source": [
    "### Survived"
   ]
  },
  {
   "cell_type": "code",
   "execution_count": 231,
   "id": "9f5c46af",
   "metadata": {
    "ExecuteTime": {
     "end_time": "2021-08-06T17:14:41.094474Z",
     "start_time": "2021-08-06T17:14:40.704850Z"
    }
   },
   "outputs": [
    {
     "data": {
      "image/png": "[encoded data removed]",
      "text/plain": [
       "<Figure size 432x288 with 1 Axes>"
      ]
     },
     "metadata": {
      "needs_background": "light"
     },
     "output_type": "display_data"
    }
   ],
   "source": [
    "train[\"Survived\"].head()\n",
    "\n",
    "train[\"Survived\"].isna().sum()    # no null-values\n",
    "\n",
    "train[\"Survived\"].value_counts()  # 0:549; 1:342\n",
    "\n",
    "## plot\n",
    "sns.countplot(x=train[\"Survived\"],data=train)\n",
    "\n",
    "# cutting out \"Survived\" and making as target(y)\n",
    "target=train.pop(\"Survived\")"
   ]
  },
  {
   "cell_type": "markdown",
   "id": "3b81af28",
   "metadata": {},
   "source": [
    "## Model Training"
   ]
  },
  {
   "cell_type": "markdown",
   "id": "dfb169da",
   "metadata": {},
   "source": [
    "### Logistic Reg."
   ]
  },
  {
   "cell_type": "code",
   "execution_count": 233,
   "id": "f51c16af",
   "metadata": {
    "ExecuteTime": {
     "end_time": "2021-08-06T17:14:47.842593Z",
     "start_time": "2021-08-06T17:14:47.727094Z"
    }
   },
   "outputs": [
    {
     "name": "stderr",
     "output_type": "stream",
     "text": [
      "C:\\Users\\JokeRR\\anaconda3\\lib\\site-packages\\sklearn\\linear_model\\_logistic.py:763: ConvergenceWarning: lbfgs failed to converge (status=1):\n",
      "STOP: TOTAL NO. of ITERATIONS REACHED LIMIT.\n",
      "\n",
      "Increase the number of iterations (max_iter) or scale the data as shown in:\n",
      "    https://scikit-learn.org/stable/modules/preprocessing.html\n",
      "Please also refer to the documentation for alternative solver options:\n",
      "    https://scikit-learn.org/stable/modules/linear_model.html#logistic-regression\n",
      "  n_iter_i = _check_optimize_result(\n"
     ]
    }
   ],
   "source": [
    "from sklearn.linear_model import LogisticRegression\n",
    "\n",
    "model=LogisticRegression(random_state=21,multi_class=\"auto\",C=2,dual=False,max_iter=50,penalty='l2',solver='lbfgs').fit(train,target)\n",
    "y_pred=model.predict(test)\n",
    "y_proba=model.predict_proba(test)          # Probability estimates.\n"
   ]
  },
  {
   "cell_type": "code",
   "execution_count": 234,
   "id": "d90e60d0",
   "metadata": {
    "ExecuteTime": {
     "end_time": "2021-08-06T17:14:51.750546Z",
     "start_time": "2021-08-06T17:14:51.731245Z"
    }
   },
   "outputs": [
    {
     "data": {
      "text/plain": [
       "array([0, 1], dtype=int64)"
      ]
     },
     "execution_count": 234,
     "metadata": {},
     "output_type": "execute_result"
    }
   ],
   "source": [
    "model.coef_          #(ndarray) Coefficient of features in decision function\n",
    "model.intercept_     #(ndarray) Intercept|bias added to the decision function\n",
    "model.n_iter_        #(ndarray) Actual number of iterations for all classes\n",
    "model.classes_       #(ndarray) class labels \n",
    "### 79.33 %"
   ]
  },
  {
   "cell_type": "code",
   "execution_count": null,
   "id": "6011936a",
   "metadata": {},
   "outputs": [],
   "source": [
    "### SVC"
   ]
  },
  {
   "cell_type": "code",
   "execution_count": 117,
   "id": "cc0c6aa2",
   "metadata": {
    "ExecuteTime": {
     "end_time": "2021-08-05T07:23:35.537602Z",
     "start_time": "2021-08-05T07:23:34.687866Z"
    }
   },
   "outputs": [
    {
     "data": {
      "text/plain": [
       "array([[0.70952415, 0.29047585],\n",
       "       [0.70556827, 0.29443173],\n",
       "       [0.7041067 , 0.2958933 ],\n",
       "       [0.71050581, 0.28949419],\n",
       "       [0.70070019, 0.29929981],\n",
       "       [0.68415104, 0.31584896],\n",
       "       [0.6991983 , 0.3008017 ],\n",
       "       [0.65587672, 0.34412328],\n",
       "       [0.68354665, 0.31645335],\n",
       "       [0.68445484, 0.31554516],\n",
       "       [0.71075518, 0.28924482],\n",
       "       [0.684221  , 0.315779  ],\n",
       "       [0.24037755, 0.75962245],\n",
       "       [0.71556389, 0.28443611],\n",
       "       [0.38854019, 0.61145981],\n",
       "       [0.64033207, 0.35966793],\n",
       "       [0.70507186, 0.29492814],\n",
       "       [0.69911523, 0.30088477],\n",
       "       [0.70910765, 0.29089235],\n",
       "       [0.69693327, 0.30306673],\n",
       "       [0.43286047, 0.56713953],\n",
       "       [0.66885606, 0.33114394],\n",
       "       [0.61166941, 0.38833059],\n",
       "       [0.35131079, 0.64868921],\n",
       "       [0.25957439, 0.74042561],\n",
       "       [0.72111345, 0.27888655],\n",
       "       [0.33865761, 0.66134239],\n",
       "       [0.70076888, 0.29923112],\n",
       "       [0.65379231, 0.34620769],\n",
       "       [0.70078542, 0.29921458],\n",
       "       [0.70146779, 0.29853221],\n",
       "       [0.64651748, 0.35348252],\n",
       "       [0.70113924, 0.29886076],\n",
       "       [0.68333366, 0.31666634],\n",
       "       [0.40146722, 0.59853278],\n",
       "       [0.69300823, 0.30699177],\n",
       "       [0.70129726, 0.29870274],\n",
       "       [0.69310325, 0.30689675],\n",
       "       [0.7079748 , 0.2920252 ],\n",
       "       [0.41425295, 0.58574705],\n",
       "       [0.71126398, 0.28873602],\n",
       "       [0.65152001, 0.34847999],\n",
       "       [0.7119681 , 0.2880319 ],\n",
       "       [0.69560493, 0.30439507],\n",
       "       [0.47507072, 0.52492928],\n",
       "       [0.70886352, 0.29113648],\n",
       "       [0.65939083, 0.34060917],\n",
       "       [0.70679471, 0.29320529],\n",
       "       [0.28448026, 0.71551974],\n",
       "       [0.70421058, 0.29578942],\n",
       "       [0.37836279, 0.62163721],\n",
       "       [0.69431407, 0.30568593],\n",
       "       [0.66914649, 0.33085351],\n",
       "       [0.23922587, 0.76077413],\n",
       "       [0.69321833, 0.30678167],\n",
       "       [0.64094019, 0.35905981],\n",
       "       [0.7133871 , 0.2866129 ],\n",
       "       [0.70896763, 0.29103237],\n",
       "       [0.71041984, 0.28958016],\n",
       "       [0.24471232, 0.75528768],\n",
       "       [0.69455733, 0.30544267],\n",
       "       [0.70637497, 0.29362503],\n",
       "       [0.69715027, 0.30284973],\n",
       "       [0.69141718, 0.30858282],\n",
       "       [0.23824669, 0.76175331],\n",
       "       [0.66909462, 0.33090538],\n",
       "       [0.68341557, 0.31658443],\n",
       "       [0.58024616, 0.41975384],\n",
       "       [0.64390065, 0.35609935],\n",
       "       [0.28072734, 0.71927266],\n",
       "       [0.69424377, 0.30575623],\n",
       "       [0.70319891, 0.29680109],\n",
       "       [0.70269709, 0.29730291],\n",
       "       [0.64264414, 0.35735586],\n",
       "       [0.2348595 , 0.7651405 ],\n",
       "       [0.23557787, 0.76442213],\n",
       "       [0.71071455, 0.28928545],\n",
       "       [0.70195682, 0.29804318],\n",
       "       [0.70543247, 0.29456753],\n",
       "       [0.69424377, 0.30575623],\n",
       "       [0.6396732 , 0.3603268 ],\n",
       "       [0.2545344 , 0.7454656 ],\n",
       "       [0.68790698, 0.31209302],\n",
       "       [0.71075518, 0.28924482],\n",
       "       [0.70096329, 0.29903671],\n",
       "       [0.70868649, 0.29131351],\n",
       "       [0.69728699, 0.30271301],\n",
       "       [0.687423  , 0.312577  ],\n",
       "       [0.69732869, 0.30267131],\n",
       "       [0.58942086, 0.41057914],\n",
       "       [0.69660794, 0.30339206],\n",
       "       [0.71078367, 0.28921633],\n",
       "       [0.45552461, 0.54447539],\n",
       "       [0.71071455, 0.28928545],\n",
       "       [0.64508014, 0.35491986],\n",
       "       [0.70891429, 0.29108571],\n",
       "       [0.32322673, 0.67677327],\n",
       "       [0.71207871, 0.28792129],\n",
       "       [0.69192445, 0.30807555],\n",
       "       [0.71336654, 0.28663346],\n",
       "       [0.43561632, 0.56438368],\n",
       "       [0.6698574 , 0.3301426 ],\n",
       "       [0.70679471, 0.29320529],\n",
       "       [0.70992622, 0.29007378],\n",
       "       [0.68667974, 0.31332026],\n",
       "       [0.68450294, 0.31549706],\n",
       "       [0.69917131, 0.30082869],\n",
       "       [0.70679471, 0.29320529],\n",
       "       [0.7104854 , 0.2895146 ],\n",
       "       [0.68521103, 0.31478897],\n",
       "       [0.70476091, 0.29523909],\n",
       "       [0.69731956, 0.30268044],\n",
       "       [0.6238623 , 0.3761377 ],\n",
       "       [0.68397754, 0.31602246],\n",
       "       [0.25024166, 0.74975834],\n",
       "       [0.69133029, 0.30866971],\n",
       "       [0.70658061, 0.29341939],\n",
       "       [0.60120852, 0.39879148],\n",
       "       [0.26109744, 0.73890256],\n",
       "       [0.66309289, 0.33690711],\n",
       "       [0.64556167, 0.35443833],\n",
       "       [0.71444958, 0.28555042],\n",
       "       [0.39779917, 0.60220083],\n",
       "       [0.71155179, 0.28844821],\n",
       "       [0.70679471, 0.29320529],\n",
       "       [0.66783936, 0.33216064],\n",
       "       [0.70493821, 0.29506179],\n",
       "       [0.68581712, 0.31418288],\n",
       "       [0.71011436, 0.28988564],\n",
       "       [0.70763212, 0.29236788],\n",
       "       [0.71319579, 0.28680421],\n",
       "       [0.68027598, 0.31972402],\n",
       "       [0.66502425, 0.33497575],\n",
       "       [0.7140434 , 0.2859566 ],\n",
       "       [0.71123203, 0.28876797],\n",
       "       [0.70772718, 0.29227282],\n",
       "       [0.70568138, 0.29431862],\n",
       "       [0.70109148, 0.29890852],\n",
       "       [0.69684094, 0.30315906],\n",
       "       [0.566526  , 0.433474  ],\n",
       "       [0.5343599 , 0.4656401 ],\n",
       "       [0.23810153, 0.76189847],\n",
       "       [0.28191187, 0.71808813],\n",
       "       [0.66137   , 0.33863   ],\n",
       "       [0.67709859, 0.32290141],\n",
       "       [0.72812238, 0.27187762],\n",
       "       [0.44669232, 0.55330768],\n",
       "       [0.70477931, 0.29522069],\n",
       "       [0.65152001, 0.34847999],\n",
       "       [0.68105498, 0.31894502],\n",
       "       [0.22875781, 0.77124219],\n",
       "       [0.70637858, 0.29362142],\n",
       "       [0.7169828 , 0.2830172 ],\n",
       "       [0.70747068, 0.29252932],\n",
       "       [0.64770059, 0.35229941],\n",
       "       [0.70785989, 0.29214011],\n",
       "       [0.23584692, 0.76415308],\n",
       "       [0.69696634, 0.30303366],\n",
       "       [0.67709859, 0.32290141],\n",
       "       [0.69771696, 0.30228304],\n",
       "       [0.69733384, 0.30266616],\n",
       "       [0.64486102, 0.35513898],\n",
       "       [0.69036748, 0.30963252],\n",
       "       [0.71089769, 0.28910231],\n",
       "       [0.70999782, 0.29000218],\n",
       "       [0.68469333, 0.31530667],\n",
       "       [0.5       , 0.5       ],\n",
       "       [0.62373582, 0.37626418],\n",
       "       [0.62984651, 0.37015349],\n",
       "       [0.69457408, 0.30542592],\n",
       "       [0.710829  , 0.289171  ],\n",
       "       [0.70652344, 0.29347656],\n",
       "       [0.70822878, 0.29177122],\n",
       "       [0.70652281, 0.29347719],\n",
       "       [0.68361426, 0.31638574],\n",
       "       [0.53601504, 0.46398496],\n",
       "       [0.56407751, 0.43592249],\n",
       "       [0.47257391, 0.52742609],\n",
       "       [0.59137003, 0.40862997],\n",
       "       [0.26163927, 0.73836073],\n",
       "       [0.70543247, 0.29456753],\n",
       "       [0.23787327, 0.76212673],\n",
       "       [0.42387041, 0.57612959],\n",
       "       [0.70679471, 0.29320529],\n",
       "       [0.23512815, 0.76487185],\n",
       "       [0.7075773 , 0.2924227 ],\n",
       "       [0.65876244, 0.34123756],\n",
       "       [0.71057786, 0.28942214],\n",
       "       [0.40095326, 0.59904674],\n",
       "       [0.70985413, 0.29014587],\n",
       "       [0.68436949, 0.31563051],\n",
       "       [0.65414102, 0.34585898],\n",
       "       [0.67723924, 0.32276076],\n",
       "       [0.7090344 , 0.2909656 ],\n",
       "       [0.56362314, 0.43637686],\n",
       "       [0.71332294, 0.28667706],\n",
       "       [0.24219867, 0.75780133],\n",
       "       [0.68769451, 0.31230549],\n",
       "       [0.69996015, 0.30003985],\n",
       "       [0.70127464, 0.29872536],\n",
       "       [0.68848522, 0.31151478],\n",
       "       [0.60130216, 0.39869784],\n",
       "       [0.24134531, 0.75865469],\n",
       "       [0.60009706, 0.39990294],\n",
       "       [0.70288871, 0.29711129],\n",
       "       [0.65044188, 0.34955812],\n",
       "       [0.7001863 , 0.2998137 ],\n",
       "       [0.7015038 , 0.2984962 ],\n",
       "       [0.64087759, 0.35912241],\n",
       "       [0.70887528, 0.29112472],\n",
       "       [0.69037977, 0.30962023],\n",
       "       [0.71089389, 0.28910611],\n",
       "       [0.27840794, 0.72159206],\n",
       "       [0.70415335, 0.29584665],\n",
       "       [0.73321267, 0.26678733],\n",
       "       [0.56831709, 0.43168291],\n",
       "       [0.69728699, 0.30271301],\n",
       "       [0.23526446, 0.76473554],\n",
       "       [0.237058  , 0.762942  ],\n",
       "       [0.71071455, 0.28928545],\n",
       "       [0.69844701, 0.30155299],\n",
       "       [0.70309007, 0.29690993],\n",
       "       [0.68851127, 0.31148873],\n",
       "       [0.70326703, 0.29673297],\n",
       "       [0.67137525, 0.32862475],\n",
       "       [0.69192449, 0.30807551],\n",
       "       [0.70643132, 0.29356868],\n",
       "       [0.69732869, 0.30267131],\n",
       "       [0.71254099, 0.28745901],\n",
       "       [0.70887928, 0.29112072],\n",
       "       [0.32741145, 0.67258855],\n",
       "       [0.62697001, 0.37302999],\n",
       "       [0.71172402, 0.28827598],\n",
       "       [0.70676301, 0.29323699],\n",
       "       [0.29666522, 0.70333478],\n",
       "       [0.70136657, 0.29863343],\n",
       "       [0.31455891, 0.68544109],\n",
       "       [0.69727604, 0.30272396],\n",
       "       [0.6859347 , 0.3140653 ],\n",
       "       [0.20742059, 0.79257941],\n",
       "       [0.67727494, 0.32272506],\n",
       "       [0.66257125, 0.33742875],\n",
       "       [0.23621978, 0.76378022],\n",
       "       [0.71075723, 0.28924277],\n",
       "       [0.69374551, 0.30625449],\n",
       "       [0.48447123, 0.51552877],\n",
       "       [0.65927604, 0.34072396],\n",
       "       [0.66187538, 0.33812462],\n",
       "       [0.66309289, 0.33690711],\n",
       "       [0.69884505, 0.30115495],\n",
       "       [0.55255056, 0.44744944],\n",
       "       [0.70131278, 0.29868722],\n",
       "       [0.2398064 , 0.7601936 ],\n",
       "       [0.70682564, 0.29317436],\n",
       "       [0.71315026, 0.28684974],\n",
       "       [0.710829  , 0.289171  ],\n",
       "       [0.70679471, 0.29320529],\n",
       "       [0.71145482, 0.28854518],\n",
       "       [0.67785404, 0.32214596],\n",
       "       [0.70328095, 0.29671905],\n",
       "       [0.71604042, 0.28395958],\n",
       "       [0.70322748, 0.29677252],\n",
       "       [0.66946877, 0.33053123],\n",
       "       [0.61336983, 0.38663017],\n",
       "       [0.70124882, 0.29875118],\n",
       "       [0.71075518, 0.28924482],\n",
       "       [0.69981262, 0.30018738],\n",
       "       [0.710829  , 0.289171  ],\n",
       "       [0.70129726, 0.29870274],\n",
       "       [0.69376186, 0.30623814],\n",
       "       [0.26940641, 0.73059359],\n",
       "       [0.70679471, 0.29320529],\n",
       "       [0.23870084, 0.76129916],\n",
       "       [0.6975714 , 0.3024286 ],\n",
       "       [0.70652344, 0.29347656],\n",
       "       [0.64399614, 0.35600386],\n",
       "       [0.70617079, 0.29382921],\n",
       "       [0.69132673, 0.30867327],\n",
       "       [0.69751421, 0.30248579],\n",
       "       [0.69824989, 0.30175011],\n",
       "       [0.69639964, 0.30360036],\n",
       "       [0.61862825, 0.38137175],\n",
       "       [0.69732869, 0.30267131],\n",
       "       [0.64507858, 0.35492142],\n",
       "       [0.59591901, 0.40408099],\n",
       "       [0.71294028, 0.28705972],\n",
       "       [0.71087384, 0.28912616],\n",
       "       [0.24494914, 0.75505086],\n",
       "       [0.70652281, 0.29347719],\n",
       "       [0.71071455, 0.28928545],\n",
       "       [0.56328062, 0.43671938],\n",
       "       [0.69918105, 0.30081895],\n",
       "       [0.70652281, 0.29347719],\n",
       "       [0.25702952, 0.74297048],\n",
       "       [0.71381197, 0.28618803],\n",
       "       [0.70988847, 0.29011153],\n",
       "       [0.46655243, 0.53344757],\n",
       "       [0.70078542, 0.29921458],\n",
       "       [0.51528137, 0.48471863],\n",
       "       [0.71208511, 0.28791489],\n",
       "       [0.71315514, 0.28684486],\n",
       "       [0.69428979, 0.30571021],\n",
       "       [0.7031556 , 0.2968444 ],\n",
       "       [0.70728556, 0.29271444],\n",
       "       [0.69732869, 0.30267131],\n",
       "       [0.70700137, 0.29299863],\n",
       "       [0.2415159 , 0.7584841 ],\n",
       "       [0.61937631, 0.38062369],\n",
       "       [0.22354382, 0.77645618],\n",
       "       [0.71199195, 0.28800805],\n",
       "       [0.69627679, 0.30372321],\n",
       "       [0.70076888, 0.29923112],\n",
       "       [0.71082446, 0.28917554],\n",
       "       [0.7000359 , 0.2999641 ],\n",
       "       [0.2328272 , 0.7671728 ],\n",
       "       [0.68110159, 0.31889841],\n",
       "       [0.23901334, 0.76098666],\n",
       "       [0.69204301, 0.30795699],\n",
       "       [0.71076532, 0.28923468],\n",
       "       [0.64186304, 0.35813696],\n",
       "       [0.70992622, 0.29007378],\n",
       "       [0.70469161, 0.29530839],\n",
       "       [0.70109148, 0.29890852],\n",
       "       [0.66168188, 0.33831812],\n",
       "       [0.23481853, 0.76518147],\n",
       "       [0.70677106, 0.29322894],\n",
       "       [0.55083297, 0.44916703],\n",
       "       [0.24858499, 0.75141501],\n",
       "       [0.67697722, 0.32302278],\n",
       "       [0.69246643, 0.30753357],\n",
       "       [0.62871037, 0.37128963],\n",
       "       [0.65052245, 0.34947755],\n",
       "       [0.70652344, 0.29347656],\n",
       "       [0.68269778, 0.31730222],\n",
       "       [0.71075518, 0.28924482],\n",
       "       [0.65949881, 0.34050119],\n",
       "       [0.7069265 , 0.2930735 ],\n",
       "       [0.7113434 , 0.2886566 ],\n",
       "       [0.62547583, 0.37452417],\n",
       "       [0.70652281, 0.29347719],\n",
       "       [0.68959071, 0.31040929],\n",
       "       [0.7131168 , 0.2868832 ],\n",
       "       [0.34328191, 0.65671809],\n",
       "       [0.24763481, 0.75236519],\n",
       "       [0.71486875, 0.28513125],\n",
       "       [0.68271115, 0.31728885],\n",
       "       [0.70109148, 0.29890852],\n",
       "       [0.69926586, 0.30073414],\n",
       "       [0.69727129, 0.30272871],\n",
       "       [0.67877689, 0.32122311],\n",
       "       [0.3534581 , 0.6465419 ],\n",
       "       [0.70288871, 0.29711129],\n",
       "       [0.27817291, 0.72182709],\n",
       "       [0.37510184, 0.62489816],\n",
       "       [0.5823593 , 0.4176407 ],\n",
       "       [0.68915538, 0.31084462],\n",
       "       [0.5338202 , 0.4661798 ],\n",
       "       [0.71075926, 0.28924074],\n",
       "       [0.70679471, 0.29320529],\n",
       "       [0.70492894, 0.29507106],\n",
       "       [0.40963927, 0.59036073],\n",
       "       [0.58344463, 0.41655537],\n",
       "       [0.67877689, 0.32122311],\n",
       "       [0.71050581, 0.28949419],\n",
       "       [0.40740337, 0.59259663],\n",
       "       [0.33554885, 0.66445115],\n",
       "       [0.70868014, 0.29131986],\n",
       "       [0.55247433, 0.44752567],\n",
       "       [0.39012796, 0.60987204],\n",
       "       [0.69878262, 0.30121738],\n",
       "       [0.70361679, 0.29638321],\n",
       "       [0.23413898, 0.76586102],\n",
       "       [0.68359745, 0.31640255],\n",
       "       [0.71028933, 0.28971067],\n",
       "       [0.25358079, 0.74641921],\n",
       "       [0.2547871 , 0.7452129 ],\n",
       "       [0.71095009, 0.28904991],\n",
       "       [0.69496657, 0.30503343],\n",
       "       [0.5273123 , 0.4726877 ],\n",
       "       [0.61070077, 0.38929923],\n",
       "       [0.70679471, 0.29320529],\n",
       "       [0.70588149, 0.29411851],\n",
       "       [0.694555  , 0.305445  ],\n",
       "       [0.6851358 , 0.3148642 ],\n",
       "       [0.70254183, 0.29745817],\n",
       "       [0.34214378, 0.65785622],\n",
       "       [0.70776348, 0.29223652],\n",
       "       [0.71173458, 0.28826542],\n",
       "       [0.69921989, 0.30078011],\n",
       "       [0.64693783, 0.35306217],\n",
       "       [0.21556394, 0.78443606],\n",
       "       [0.60769889, 0.39230111],\n",
       "       [0.65272424, 0.34727576],\n",
       "       [0.70914655, 0.29085345],\n",
       "       [0.71865208, 0.28134792],\n",
       "       [0.36278233, 0.63721767],\n",
       "       [0.70394086, 0.29605914],\n",
       "       [0.25543092, 0.74456908],\n",
       "       [0.70495065, 0.29504935],\n",
       "       [0.70898444, 0.29101556],\n",
       "       [0.23547762, 0.76452238],\n",
       "       [0.70553612, 0.29446388],\n",
       "       [0.35584923, 0.64415077],\n",
       "       [0.47183406, 0.52816594],\n",
       "       [0.67826478, 0.32173522],\n",
       "       [0.68368872, 0.31631128],\n",
       "       [0.70830985, 0.29169015],\n",
       "       [0.23751514, 0.76248486],\n",
       "       [0.69733766, 0.30266234],\n",
       "       [0.62199077, 0.37800923],\n",
       "       [0.69732869, 0.30267131],\n",
       "       [0.21508922, 0.78491078],\n",
       "       [0.7021183 , 0.2978817 ],\n",
       "       [0.71071455, 0.28928545],\n",
       "       [0.20503379, 0.79496621],\n",
       "       [0.71245986, 0.28754014],\n",
       "       [0.71071455, 0.28928545],\n",
       "       [0.69081717, 0.30918283]])"
      ]
     },
     "execution_count": 117,
     "metadata": {},
     "output_type": "execute_result"
    }
   ],
   "source": [
    "from sklearn.svm import SVC\n",
    "model=SVC(probability=True).fit(train,target)              ##train model\n",
    "ypred=model.predict(test)  # prediction\n",
    "\n",
    "model.predict_proba(test) # predict probability class(if probability=True)\n"
   ]
  },
  {
   "cell_type": "code",
   "execution_count": null,
   "id": "8fa25d20",
   "metadata": {},
   "outputs": [],
   "source": [
    "## Random Forest"
   ]
  },
  {
   "cell_type": "code",
   "execution_count": 236,
   "id": "dc08e83d",
   "metadata": {
    "ExecuteTime": {
     "end_time": "2021-08-06T17:16:05.301140Z",
     "start_time": "2021-08-06T17:16:04.394826Z"
    }
   },
   "outputs": [
    {
     "data": {
      "text/plain": [
       "array([[9.50000000e-01, 5.00000000e-02],\n",
       "       [8.35236123e-01, 1.64763877e-01],\n",
       "       [7.60000000e-01, 2.40000000e-01],\n",
       "       [3.20000000e-01, 6.80000000e-01],\n",
       "       [5.70000000e-01, 4.30000000e-01],\n",
       "       [9.15016835e-01, 8.49831650e-02],\n",
       "       [8.51760243e-01, 1.48239757e-01],\n",
       "       [9.30000000e-01, 7.00000000e-02],\n",
       "       [1.90000000e-01, 8.10000000e-01],\n",
       "       [9.76835675e-01, 2.31643250e-02],\n",
       "       [9.40000000e-01, 6.00000000e-02],\n",
       "       [8.92186953e-01, 1.07813047e-01],\n",
       "       [1.00000000e-02, 9.90000000e-01],\n",
       "       [8.70000000e-01, 1.30000000e-01],\n",
       "       [1.00000000e-02, 9.90000000e-01],\n",
       "       [6.00000000e-02, 9.40000000e-01],\n",
       "       [9.60680524e-01, 3.93194763e-02],\n",
       "       [3.30000000e-01, 6.70000000e-01],\n",
       "       [6.50000000e-01, 3.50000000e-01],\n",
       "       [4.61760243e-01, 5.38239757e-01],\n",
       "       [4.00000000e-01, 6.00000000e-01],\n",
       "       [4.12281185e-01, 5.87718815e-01],\n",
       "       [4.16724913e-02, 9.58327509e-01],\n",
       "       [4.20000000e-01, 5.80000000e-01],\n",
       "       [5.00000000e-02, 9.50000000e-01],\n",
       "       [9.90000000e-01, 1.00000000e-02],\n",
       "       [0.00000000e+00, 1.00000000e+00],\n",
       "       [3.10000000e-01, 6.90000000e-01],\n",
       "       [3.98993334e-01, 6.01006666e-01],\n",
       "       [8.20000000e-01, 1.80000000e-01],\n",
       "       [9.90000000e-01, 1.00000000e-02],\n",
       "       [9.20000000e-01, 8.00000000e-02],\n",
       "       [3.60000000e-01, 6.40000000e-01],\n",
       "       [9.10000000e-01, 9.00000000e-02],\n",
       "       [3.30000000e-01, 6.70000000e-01],\n",
       "       [3.59965403e-01, 6.40034597e-01],\n",
       "       [3.20000000e-01, 6.80000000e-01],\n",
       "       [8.50000000e-01, 1.50000000e-01],\n",
       "       [9.80000000e-01, 2.00000000e-02],\n",
       "       [1.90117595e-01, 8.09882405e-01],\n",
       "       [7.00000000e-01, 3.00000000e-01],\n",
       "       [1.98528892e-01, 8.01471108e-01],\n",
       "       [9.16586833e-01, 8.34131667e-02],\n",
       "       [0.00000000e+00, 1.00000000e+00],\n",
       "       [1.00000000e-02, 9.90000000e-01],\n",
       "       [9.90000000e-01, 1.00000000e-02],\n",
       "       [5.40000000e-01, 4.60000000e-01],\n",
       "       [8.22265801e-01, 1.77734199e-01],\n",
       "       [6.00000000e-02, 9.40000000e-01],\n",
       "       [3.30000000e-01, 6.70000000e-01],\n",
       "       [5.60000000e-01, 4.40000000e-01],\n",
       "       [8.50000000e-01, 1.50000000e-01],\n",
       "       [1.80000000e-01, 8.20000000e-01],\n",
       "       [2.20000000e-01, 7.80000000e-01],\n",
       "       [7.80000000e-01, 2.20000000e-01],\n",
       "       [9.60000000e-01, 4.00000000e-02],\n",
       "       [1.00000000e+00, 0.00000000e+00],\n",
       "       [9.74008901e-01, 2.59910992e-02],\n",
       "       [9.60000000e-01, 4.00000000e-02],\n",
       "       [0.00000000e+00, 1.00000000e+00],\n",
       "       [9.62638298e-01, 3.73617021e-02],\n",
       "       [6.66673314e-01, 3.33326686e-01],\n",
       "       [9.99024951e-01, 9.75048664e-04],\n",
       "       [2.20000000e-01, 7.80000000e-01],\n",
       "       [4.20000000e-01, 5.80000000e-01],\n",
       "       [1.94090610e-01, 8.05909390e-01],\n",
       "       [1.40000000e-01, 8.60000000e-01],\n",
       "       [9.80000000e-01, 2.00000000e-02],\n",
       "       [9.00000000e-01, 1.00000000e-01],\n",
       "       [2.70000000e-01, 7.30000000e-01],\n",
       "       [2.41871723e-01, 7.58128277e-01],\n",
       "       [1.00000000e+00, 0.00000000e+00],\n",
       "       [8.10000000e-01, 1.90000000e-01],\n",
       "       [9.90000000e-01, 1.00000000e-02],\n",
       "       [0.00000000e+00, 1.00000000e+00],\n",
       "       [5.80000000e-01, 4.20000000e-01],\n",
       "       [8.10000000e-01, 1.90000000e-01],\n",
       "       [1.80000000e-01, 8.20000000e-01],\n",
       "       [9.33591470e-01, 6.64085297e-02],\n",
       "       [2.41871723e-01, 7.58128277e-01],\n",
       "       [1.10000000e-01, 8.90000000e-01],\n",
       "       [7.90000000e-01, 2.10000000e-01],\n",
       "       [7.66557170e-01, 2.33442830e-01],\n",
       "       [9.40000000e-01, 6.00000000e-02],\n",
       "       [9.07333655e-01, 9.26663452e-02],\n",
       "       [9.80000000e-01, 2.00000000e-02],\n",
       "       [0.00000000e+00, 1.00000000e+00],\n",
       "       [7.20000000e-01, 2.80000000e-01],\n",
       "       [8.16149171e-02, 9.18385083e-01],\n",
       "       [5.00000000e-02, 9.50000000e-01],\n",
       "       [5.40000000e-01, 4.60000000e-01],\n",
       "       [4.92802787e-01, 5.07197213e-01],\n",
       "       [1.70000000e-01, 8.30000000e-01],\n",
       "       [8.10000000e-01, 1.90000000e-01],\n",
       "       [6.40000000e-01, 3.60000000e-01],\n",
       "       [7.57757498e-01, 2.42242502e-01],\n",
       "       [6.00000000e-02, 9.40000000e-01],\n",
       "       [7.04492704e-01, 2.95507296e-01],\n",
       "       [5.70000000e-01, 4.30000000e-01],\n",
       "       [7.40000000e-01, 2.60000000e-01],\n",
       "       [0.00000000e+00, 1.00000000e+00],\n",
       "       [8.30000000e-01, 1.70000000e-01],\n",
       "       [8.22265801e-01, 1.77734199e-01],\n",
       "       [8.39199435e-01, 1.60800565e-01],\n",
       "       [4.30000000e-01, 5.70000000e-01],\n",
       "       [9.55689429e-01, 4.43105709e-02],\n",
       "       [8.88282487e-01, 1.11717513e-01],\n",
       "       [8.22265801e-01, 1.77734199e-01],\n",
       "       [3.50000000e-01, 6.50000000e-01],\n",
       "       [9.90000000e-01, 1.00000000e-02],\n",
       "       [9.45352411e-01, 5.46475887e-02],\n",
       "       [2.98896218e-02, 9.70110378e-01],\n",
       "       [5.00000000e-02, 9.50000000e-01],\n",
       "       [4.90000000e-01, 5.10000000e-01],\n",
       "       [7.00000000e-02, 9.30000000e-01],\n",
       "       [6.80000000e-01, 3.20000000e-01],\n",
       "       [9.07944862e-01, 9.20551378e-02],\n",
       "       [1.10000000e-01, 8.90000000e-01],\n",
       "       [4.40000000e-01, 5.60000000e-01],\n",
       "       [0.00000000e+00, 1.00000000e+00],\n",
       "       [1.35749932e-01, 8.64250068e-01],\n",
       "       [9.04136613e-01, 9.58633868e-02],\n",
       "       [0.00000000e+00, 1.00000000e+00],\n",
       "       [1.00000000e+00, 0.00000000e+00],\n",
       "       [8.22265801e-01, 1.77734199e-01],\n",
       "       [3.00000000e-01, 7.00000000e-01],\n",
       "       [7.83703704e-01, 2.16296296e-01],\n",
       "       [5.00000000e-02, 9.50000000e-01],\n",
       "       [4.84533230e-01, 5.15466770e-01],\n",
       "       [1.00000000e+00, 0.00000000e+00],\n",
       "       [3.36370224e-01, 6.63629776e-01],\n",
       "       [8.70000000e-01, 1.30000000e-01],\n",
       "       [8.40000000e-01, 1.60000000e-01],\n",
       "       [8.97944862e-01, 1.02055138e-01],\n",
       "       [9.50000000e-01, 5.00000000e-02],\n",
       "       [1.00000000e+00, 0.00000000e+00],\n",
       "       [9.50000000e-01, 5.00000000e-02],\n",
       "       [1.00000000e+00, 0.00000000e+00],\n",
       "       [8.90000000e-01, 1.10000000e-01],\n",
       "       [8.90000000e-01, 1.10000000e-01],\n",
       "       [9.40000000e-01, 6.00000000e-02],\n",
       "       [5.00000000e-02, 9.50000000e-01],\n",
       "       [6.50000000e-01, 3.50000000e-01],\n",
       "       [9.18065518e-01, 8.19344822e-02],\n",
       "       [2.86963828e-01, 7.13036172e-01],\n",
       "       [9.20000000e-01, 8.00000000e-02],\n",
       "       [7.80000000e-01, 2.20000000e-01],\n",
       "       [1.00000000e+00, 0.00000000e+00],\n",
       "       [1.98528892e-01, 8.01471108e-01],\n",
       "       [7.90000000e-01, 2.10000000e-01],\n",
       "       [0.00000000e+00, 1.00000000e+00],\n",
       "       [9.06109791e-01, 9.38902090e-02],\n",
       "       [9.30000000e-01, 7.00000000e-02],\n",
       "       [3.20000000e-01, 6.80000000e-01],\n",
       "       [9.70000000e-01, 3.00000000e-02],\n",
       "       [9.80000000e-01, 2.00000000e-02],\n",
       "       [3.00000000e-02, 9.70000000e-01],\n",
       "       [4.70000000e-01, 5.30000000e-01],\n",
       "       [2.86963828e-01, 7.13036172e-01],\n",
       "       [1.40000000e-01, 8.60000000e-01],\n",
       "       [4.66854768e-02, 9.53314523e-01],\n",
       "       [1.70000000e-01, 8.30000000e-01],\n",
       "       [2.40290026e-01, 7.59709974e-01],\n",
       "       [3.20000000e-01, 6.80000000e-01],\n",
       "       [5.00627506e-01, 4.99372494e-01],\n",
       "       [6.60000000e-01, 3.40000000e-01],\n",
       "       [6.80000000e-01, 3.20000000e-01],\n",
       "       [9.56360698e-01, 4.36393019e-02],\n",
       "       [9.24181185e-02, 9.07581882e-01],\n",
       "       [8.90000000e-01, 1.10000000e-01],\n",
       "       [6.73973064e-01, 3.26026936e-01],\n",
       "       [9.17944862e-01, 8.20551378e-02],\n",
       "       [9.60000000e-01, 4.00000000e-02],\n",
       "       [7.46268932e-01, 2.53731068e-01],\n",
       "       [9.70000000e-01, 3.00000000e-02],\n",
       "       [0.00000000e+00, 1.00000000e+00],\n",
       "       [2.06859485e-02, 9.79314051e-01],\n",
       "       [3.30000000e-01, 6.70000000e-01],\n",
       "       [5.00000000e-02, 9.50000000e-01],\n",
       "       [1.30000000e-01, 8.70000000e-01],\n",
       "       [9.33591470e-01, 6.64085297e-02],\n",
       "       [5.70000000e-01, 4.30000000e-01],\n",
       "       [1.00000000e-02, 9.90000000e-01],\n",
       "       [8.22265801e-01, 1.77734199e-01],\n",
       "       [5.00000000e-02, 9.50000000e-01],\n",
       "       [9.70000000e-01, 3.00000000e-02],\n",
       "       [5.39281706e-02, 9.46071829e-01],\n",
       "       [7.43267711e-01, 2.56732289e-01],\n",
       "       [9.80000000e-01, 2.00000000e-02],\n",
       "       [9.05622719e-01, 9.43772805e-02],\n",
       "       [9.06546490e-01, 9.34535104e-02],\n",
       "       [8.24417272e-01, 1.75582728e-01],\n",
       "       [4.70000000e-01, 5.30000000e-01],\n",
       "       [8.40000000e-01, 1.60000000e-01],\n",
       "       [2.00000000e-01, 8.00000000e-01],\n",
       "       [8.07422886e-01, 1.92577114e-01],\n",
       "       [3.00000000e-01, 7.00000000e-01],\n",
       "       [7.00000000e-01, 3.00000000e-01],\n",
       "       [9.82487737e-01, 1.75122635e-02],\n",
       "       [3.10000000e-01, 6.90000000e-01],\n",
       "       [3.30000000e-01, 6.70000000e-01],\n",
       "       [1.20000000e-01, 8.80000000e-01],\n",
       "       [5.70000000e-01, 4.30000000e-01],\n",
       "       [9.00000000e-02, 9.10000000e-01],\n",
       "       [9.92487737e-01, 7.51226349e-03],\n",
       "       [6.10000000e-01, 3.90000000e-01],\n",
       "       [7.22009683e-01, 2.77990317e-01],\n",
       "       [9.82487737e-01, 1.75122635e-02],\n",
       "       [9.00000000e-02, 9.10000000e-01],\n",
       "       [1.00000000e+00, 0.00000000e+00],\n",
       "       [7.70667896e-01, 2.29332104e-01],\n",
       "       [7.00000000e-01, 3.00000000e-01],\n",
       "       [9.00000000e-01, 1.00000000e-01],\n",
       "       [5.20000000e-01, 4.80000000e-01],\n",
       "       [6.25236123e-01, 3.74763877e-01],\n",
       "       [9.34747284e-01, 6.52527161e-02],\n",
       "       [0.00000000e+00, 1.00000000e+00],\n",
       "       [7.90000000e-01, 2.10000000e-01],\n",
       "       [2.00000000e-02, 9.80000000e-01],\n",
       "       [8.10000000e-01, 1.90000000e-01],\n",
       "       [1.50000000e-01, 8.50000000e-01],\n",
       "       [1.00000000e+00, 0.00000000e+00],\n",
       "       [6.96237945e-02, 9.30376206e-01],\n",
       "       [3.33703704e-01, 6.66296296e-01],\n",
       "       [3.90000000e-01, 6.10000000e-01],\n",
       "       [6.70000000e-01, 3.30000000e-01],\n",
       "       [8.53703704e-01, 1.46296296e-01],\n",
       "       [8.16149171e-02, 9.18385083e-01],\n",
       "       [9.73883277e-01, 2.61167228e-02],\n",
       "       [8.61502513e-01, 1.38497487e-01],\n",
       "       [8.20000000e-01, 1.80000000e-01],\n",
       "       [2.41811847e-03, 9.97581882e-01],\n",
       "       [8.87934905e-01, 1.12065095e-01],\n",
       "       [9.18916557e-01, 8.10834430e-02],\n",
       "       [1.90000000e-01, 8.10000000e-01],\n",
       "       [1.00000000e+00, 0.00000000e+00],\n",
       "       [5.40000000e-01, 4.60000000e-01],\n",
       "       [3.30000000e-01, 6.70000000e-01],\n",
       "       [2.93798436e-01, 7.06201564e-01],\n",
       "       [0.00000000e+00, 1.00000000e+00],\n",
       "       [3.80000000e-01, 6.20000000e-01],\n",
       "       [4.00000000e-02, 9.60000000e-01],\n",
       "       [6.80000000e-01, 3.20000000e-01],\n",
       "       [9.40000000e-01, 6.00000000e-02],\n",
       "       [9.80000000e-01, 2.00000000e-02],\n",
       "       [7.70000000e-01, 2.30000000e-01],\n",
       "       [1.37007608e-01, 8.62992392e-01],\n",
       "       [9.20000000e-01, 8.00000000e-02],\n",
       "       [0.00000000e+00, 1.00000000e+00],\n",
       "       [7.60000000e-01, 2.40000000e-01],\n",
       "       [2.00000000e-01, 8.00000000e-01],\n",
       "       [9.65640612e-01, 3.43593876e-02],\n",
       "       [6.80000000e-01, 3.20000000e-01],\n",
       "       [9.80000000e-01, 2.00000000e-02],\n",
       "       [6.62380603e-01, 3.37619397e-01],\n",
       "       [6.73973064e-01, 3.26026936e-01],\n",
       "       [8.22265801e-01, 1.77734199e-01],\n",
       "       [1.00000000e+00, 0.00000000e+00],\n",
       "       [2.45516053e-01, 7.54483947e-01],\n",
       "       [8.56346652e-01, 1.43653348e-01],\n",
       "       [1.00000000e+00, 0.00000000e+00],\n",
       "       [1.00000000e+00, 0.00000000e+00],\n",
       "       [1.00000000e-02, 9.90000000e-01],\n",
       "       [1.10000000e-01, 8.90000000e-01],\n",
       "       [6.20000000e-01, 3.80000000e-01],\n",
       "       [9.40000000e-01, 6.00000000e-02],\n",
       "       [8.00000000e-01, 2.00000000e-01],\n",
       "       [6.73973064e-01, 3.26026936e-01],\n",
       "       [3.20000000e-01, 6.80000000e-01],\n",
       "       [1.00000000e+00, 0.00000000e+00],\n",
       "       [5.70000000e-01, 4.30000000e-01],\n",
       "       [8.22265801e-01, 1.77734199e-01],\n",
       "       [4.00000000e-02, 9.60000000e-01],\n",
       "       [3.00000000e-02, 9.70000000e-01],\n",
       "       [9.17944862e-01, 8.20551378e-02],\n",
       "       [4.00000000e-02, 9.60000000e-01],\n",
       "       [9.18348107e-01, 8.16518933e-02],\n",
       "       [9.80000000e-01, 2.00000000e-02],\n",
       "       [9.00000000e-01, 1.00000000e-01],\n",
       "       [9.44819916e-01, 5.51800836e-02],\n",
       "       [9.30000000e-01, 7.00000000e-02],\n",
       "       [8.00000000e-02, 9.20000000e-01],\n",
       "       [8.16149171e-02, 9.18385083e-01],\n",
       "       [8.40000000e-01, 1.60000000e-01],\n",
       "       [2.50000000e-01, 7.50000000e-01],\n",
       "       [1.00000000e+00, 0.00000000e+00],\n",
       "       [7.00000000e-01, 3.00000000e-01],\n",
       "       [7.00000000e-01, 3.00000000e-01],\n",
       "       [7.46268932e-01, 2.53731068e-01],\n",
       "       [8.10000000e-01, 1.90000000e-01],\n",
       "       [6.00000000e-01, 4.00000000e-01],\n",
       "       [8.80000000e-01, 1.20000000e-01],\n",
       "       [7.46268932e-01, 2.53731068e-01],\n",
       "       [8.80000000e-01, 1.20000000e-01],\n",
       "       [8.80000000e-01, 1.20000000e-01],\n",
       "       [1.00000000e+00, 0.00000000e+00],\n",
       "       [1.10000000e-01, 8.90000000e-01],\n",
       "       [8.20000000e-01, 1.80000000e-01],\n",
       "       [9.90000000e-01, 1.00000000e-02],\n",
       "       [9.30000000e-01, 7.00000000e-02],\n",
       "       [7.09998750e-01, 2.90001250e-01],\n",
       "       [8.50000000e-01, 1.50000000e-01],\n",
       "       [9.05645512e-01, 9.43544879e-02],\n",
       "       [9.20000000e-01, 8.00000000e-02],\n",
       "       [8.16149171e-02, 9.18385083e-01],\n",
       "       [6.00000000e-02, 9.40000000e-01],\n",
       "       [2.80000000e-01, 7.20000000e-01],\n",
       "       [2.60000000e-01, 7.40000000e-01],\n",
       "       [8.20000000e-01, 1.80000000e-01],\n",
       "       [8.30000000e-01, 1.70000000e-01],\n",
       "       [9.20000000e-01, 8.00000000e-02],\n",
       "       [3.10000000e-01, 6.90000000e-01],\n",
       "       [6.73973064e-01, 3.26026936e-01],\n",
       "       [7.72009683e-01, 2.27990317e-01],\n",
       "       [4.00000000e-02, 9.60000000e-01],\n",
       "       [1.00000000e-01, 9.00000000e-01],\n",
       "       [6.70000000e-01, 3.30000000e-01],\n",
       "       [5.25577472e-01, 4.74422528e-01],\n",
       "       [8.40000000e-01, 1.60000000e-01],\n",
       "       [9.30000000e-01, 7.00000000e-02],\n",
       "       [8.39199435e-01, 1.60800565e-01],\n",
       "       [8.99731762e-01, 1.00268238e-01],\n",
       "       [1.00000000e+00, 0.00000000e+00],\n",
       "       [1.04773279e-01, 8.95226721e-01],\n",
       "       [3.00000000e-02, 9.70000000e-01],\n",
       "       [9.80000000e-01, 2.00000000e-02],\n",
       "       [4.00000000e-02, 9.60000000e-01],\n",
       "       [7.40000000e-01, 2.60000000e-01],\n",
       "       [6.20000000e-01, 3.80000000e-01],\n",
       "       [9.68625829e-01, 3.13741711e-02],\n",
       "       [3.00000000e-02, 9.70000000e-01],\n",
       "       [4.70000000e-01, 5.30000000e-01],\n",
       "       [9.17944862e-01, 8.20551378e-02],\n",
       "       [5.10000000e-01, 4.90000000e-01],\n",
       "       [9.40000000e-01, 6.00000000e-02],\n",
       "       [9.36269019e-01, 6.37309807e-02],\n",
       "       [3.55596151e-01, 6.44403849e-01],\n",
       "       [8.97627486e-01, 1.02372514e-01],\n",
       "       [9.20000000e-01, 8.00000000e-02],\n",
       "       [7.46268932e-01, 2.53731068e-01],\n",
       "       [6.98348744e-01, 3.01651256e-01],\n",
       "       [7.42575865e-01, 2.57424135e-01],\n",
       "       [8.31811992e-01, 1.68188008e-01],\n",
       "       [1.00000000e-02, 9.90000000e-01],\n",
       "       [9.30000000e-01, 7.00000000e-02],\n",
       "       [4.31007874e-01, 5.68992126e-01],\n",
       "       [1.00000000e+00, 0.00000000e+00],\n",
       "       [4.38220307e-01, 5.61779693e-01],\n",
       "       [1.00000000e+00, 0.00000000e+00],\n",
       "       [5.00000000e-02, 9.50000000e-01],\n",
       "       [2.00000000e-02, 9.80000000e-01],\n",
       "       [9.92487737e-01, 7.51226349e-03],\n",
       "       [9.60000000e-01, 4.00000000e-02],\n",
       "       [8.60000000e-01, 1.40000000e-01],\n",
       "       [2.40000000e-01, 7.60000000e-01],\n",
       "       [7.50000000e-01, 2.50000000e-01],\n",
       "       [5.00000000e-02, 9.50000000e-01],\n",
       "       [9.40000000e-01, 6.00000000e-02],\n",
       "       [8.22265801e-01, 1.77734199e-01],\n",
       "       [2.90000000e-01, 7.10000000e-01],\n",
       "       [9.60000000e-01, 4.00000000e-02],\n",
       "       [6.00000000e-02, 9.40000000e-01],\n",
       "       [5.00000000e-02, 9.50000000e-01],\n",
       "       [3.20000000e-01, 6.80000000e-01],\n",
       "       [3.00000000e-02, 9.70000000e-01],\n",
       "       [6.80000000e-01, 3.20000000e-01],\n",
       "       [9.80000000e-01, 2.00000000e-02],\n",
       "       [6.73714927e-01, 3.26285073e-01],\n",
       "       [2.00000000e-02, 9.80000000e-01],\n",
       "       [4.20000000e-01, 5.80000000e-01],\n",
       "       [9.54220435e-01, 4.57795652e-02],\n",
       "       [0.00000000e+00, 1.00000000e+00],\n",
       "       [9.26557170e-01, 7.34428301e-02],\n",
       "       [5.23134965e-01, 4.76865035e-01],\n",
       "       [1.00000000e-02, 9.90000000e-01],\n",
       "       [2.00000000e-02, 9.80000000e-01],\n",
       "       [8.10000000e-01, 1.90000000e-01],\n",
       "       [8.69310746e-01, 1.30689254e-01],\n",
       "       [9.40000000e-01, 6.00000000e-02],\n",
       "       [6.90000000e-01, 3.10000000e-01],\n",
       "       [8.22265801e-01, 1.77734199e-01],\n",
       "       [9.26666569e-01, 7.33334307e-02],\n",
       "       [3.31672491e-01, 6.68327509e-01],\n",
       "       [5.30000000e-01, 4.70000000e-01],\n",
       "       [9.29402570e-01, 7.05974304e-02],\n",
       "       [3.00000000e-02, 9.70000000e-01],\n",
       "       [9.20100348e-01, 7.98996519e-02],\n",
       "       [9.90000000e-01, 1.00000000e-02],\n",
       "       [8.92665050e-01, 1.07334950e-01],\n",
       "       [8.00000000e-01, 2.00000000e-01],\n",
       "       [7.90000000e-01, 2.10000000e-01],\n",
       "       [5.00000000e-02, 9.50000000e-01],\n",
       "       [6.30000000e-01, 3.70000000e-01],\n",
       "       [8.90000000e-01, 1.10000000e-01],\n",
       "       [9.60000000e-01, 4.00000000e-02],\n",
       "       [0.00000000e+00, 1.00000000e+00],\n",
       "       [9.90000000e-01, 1.00000000e-02],\n",
       "       [0.00000000e+00, 1.00000000e+00],\n",
       "       [9.43787729e-01, 5.62122710e-02],\n",
       "       [9.38953642e-01, 6.10463576e-02],\n",
       "       [0.00000000e+00, 1.00000000e+00],\n",
       "       [9.90000000e-01, 1.00000000e-02],\n",
       "       [0.00000000e+00, 1.00000000e+00],\n",
       "       [8.50000000e-01, 1.50000000e-01],\n",
       "       [5.90000000e-01, 4.10000000e-01],\n",
       "       [5.20000000e-01, 4.80000000e-01],\n",
       "       [9.70000000e-01, 3.00000000e-02],\n",
       "       [8.10000000e-01, 1.90000000e-01],\n",
       "       [8.66854768e-02, 9.13314523e-01],\n",
       "       [1.90000000e-01, 8.10000000e-01],\n",
       "       [8.16149171e-02, 9.18385083e-01],\n",
       "       [5.00000000e-02, 9.50000000e-01],\n",
       "       [8.70000000e-01, 1.30000000e-01],\n",
       "       [8.10000000e-01, 1.90000000e-01],\n",
       "       [1.00000000e-02, 9.90000000e-01],\n",
       "       [1.00000000e+00, 0.00000000e+00],\n",
       "       [8.10000000e-01, 1.90000000e-01],\n",
       "       [3.90000000e-01, 6.10000000e-01]])"
      ]
     },
     "execution_count": 236,
     "metadata": {},
     "output_type": "execute_result"
    }
   ],
   "source": [
    "from sklearn.ensemble import RandomForestClassifier\n",
    "model=RandomForestClassifier(bootstrap=True,class_weight='balanced_subsample',criterion='gini',max_features='log2',n_estimators=100).fit(train,target)         ## Train model\n",
    "Ypred=model.predict(test)                       ##  prediction\n",
    "model.predict_proba(test)           # Predict class probabilities\n",
    "\n",
    "## After Tuning: Score increased 79.44 to 82.\n",
    "#{'bootstrap'=True,'class_weight'='balanced_subsample','criterion'='gini','max_features'='log2','n_estimators'=100}\n"
   ]
  },
  {
   "cell_type": "markdown",
   "id": "c9455a99",
   "metadata": {},
   "source": [
    "## Hyperparameter Tuning:"
   ]
  },
  {
   "cell_type": "code",
   "execution_count": 127,
   "id": "74f7cf02",
   "metadata": {
    "ExecuteTime": {
     "end_time": "2021-08-05T08:26:04.026400Z",
     "start_time": "2021-08-05T07:48:51.967360Z"
    }
   },
   "outputs": [],
   "source": [
    "from sklearn.model_selection import GridSearchCV\n",
    "\n",
    "## {'parameter_name'=[possible values]}\n",
    "param_grid={\"criterion\":[\"gini\",\"entropy\"],\n",
    "            \"max_features\":[\"auto\",\"sqrt\",\"log2\"],\n",
    "            \"class_weight\":[\"balanced\",'balanced_subsample'],\n",
    "            \"n_estimators\":[50,100,150,200,250,300,400,500],\n",
    "            \"bootstrap\":[True,False]\n",
    "           }\n",
    "\n",
    "# np.logspace(0,4,10)  # generate float\n",
    "# np.arange(0,15)      # generate int\n",
    "\n",
    "\n",
    "gscv=GridSearchCV(model,param_grid,cv=10,verbose=0,refit=False)  \n",
    "best=gscv.fit(train,target)"
   ]
  },
  {
   "cell_type": "code",
   "execution_count": 129,
   "id": "c9de7177",
   "metadata": {
    "ExecuteTime": {
     "end_time": "2021-08-05T08:27:47.207482Z",
     "start_time": "2021-08-05T08:27:47.195512Z"
    }
   },
   "outputs": [
    {
     "data": {
      "text/plain": [
       "{'bootstrap': True,\n",
       " 'class_weight': 'balanced_subsample',\n",
       " 'criterion': 'gini',\n",
       " 'max_features': 'log2',\n",
       " 'n_estimators': 100}"
      ]
     },
     "execution_count": 129,
     "metadata": {},
     "output_type": "execute_result"
    }
   ],
   "source": [
    "#best.best_estimator_               ## best model(if refit=True)\n",
    "best.best_score_                   ## mean cv score((if refit=True))\n",
    "best.best_params_"
   ]
  },
  {
   "cell_type": "markdown",
   "id": "3beee922",
   "metadata": {},
   "source": [
    "## Model Evaluation : "
   ]
  },
  {
   "cell_type": "code",
   "execution_count": 237,
   "id": "d7eddb39",
   "metadata": {
    "ExecuteTime": {
     "end_time": "2021-08-06T17:16:15.196631Z",
     "start_time": "2021-08-06T17:16:10.813279Z"
    }
   },
   "outputs": [
    {
     "data": {
      "text/plain": [
       "0.8124444444444445"
      ]
     },
     "execution_count": 237,
     "metadata": {},
     "output_type": "execute_result"
    }
   ],
   "source": [
    "from sklearn.model_selection import KFold,cross_val_score\n",
    "kf=KFold(n_splits=25,shuffle=True) \n",
    "score=cross_val_score(model,train,target,cv=kf,n_jobs=-1,verbose=0,fit_params=None)\n",
    "score.mean()                           # mean score\n"
   ]
  },
  {
   "cell_type": "markdown",
   "id": "a1166457",
   "metadata": {},
   "source": [
    "## Transform prediction for kaggle submision:\n"
   ]
  },
  {
   "cell_type": "code",
   "execution_count": 38,
   "id": "0a1a2222",
   "metadata": {
    "ExecuteTime": {
     "end_time": "2021-08-05T06:42:25.260964Z",
     "start_time": "2021-08-05T06:42:25.222347Z"
    }
   },
   "outputs": [],
   "source": [
    "submission=pd.DataFrame({\"Survived\":y_pred})\n",
    "submission.to_csv('submission_v0.csv',index=False)\n",
    "#\"PassengerId\":test[\"PassengerId\"],"
   ]
  },
  {
   "cell_type": "code",
   "execution_count": null,
   "id": "b78c2525",
   "metadata": {
    "ExecuteTime": {
     "end_time": "2021-08-04T16:13:40.291960Z",
     "start_time": "2021-08-04T16:13:40.235583Z"
    }
   },
   "outputs": [],
   "source": [
    "submission=pd.read_csv('submission_v0.csv')\n",
    "submission"
   ]
  },
  {
   "cell_type": "code",
   "execution_count": null,
   "id": "f517a143",
   "metadata": {},
   "outputs": [],
   "source": [
    "## Saving Model"
   ]
  },
  {
   "cell_type": "code",
   "execution_count": 133,
   "id": "f0346089",
   "metadata": {
    "ExecuteTime": {
     "end_time": "2021-08-05T08:32:22.109353Z",
     "start_time": "2021-08-05T08:32:22.056963Z"
    }
   },
   "outputs": [],
   "source": [
    "import pickle\n",
    "pickle_out=open(\"titanic_v0.pkl\",\"wb\")\n",
    "pickle.dump(model,pickle_out)\n",
    "pickle_out.close()"
   ]
  }
 ],
 "metadata": {
  "kernelspec": {
   "display_name": "Python 3 (ipykernel)",
   "language": "python",
   "name": "python3"
  },
  "language_info": {
   "codemirror_mode": {
    "name": "ipython",
    "version": 3
   },
   "file_extension": ".py",
   "mimetype": "text/x-python",
   "name": "python",
   "nbconvert_exporter": "python",
   "pygments_lexer": "ipython3",
   "version": "3.10.9"
  },
  "toc": {
   "base_numbering": 1,
   "nav_menu": {},
   "number_sections": true,
   "sideBar": true,
   "skip_h1_title": false,
   "title_cell": "Table of Contents",
   "title_sidebar": "Contents",
   "toc_cell": false,
   "toc_position": {},
   "toc_section_display": true,
   "toc_window_display": false
  },
  "varInspector": {
   "cols": {
    "lenName": 16,
    "lenType": 16,
    "lenVar": 40
   },
   "kernels_config": {
    "python": {
     "delete_cmd_postfix": "",
     "delete_cmd_prefix": "del ",
     "library": "var_list.py",
     "varRefreshCmd": "print(var_dic_list())"
    },
    "r": {
     "delete_cmd_postfix": ") ",
     "delete_cmd_prefix": "rm(",
     "library": "var_list.r",
     "varRefreshCmd": "cat(var_dic_list()) "
    }
   },
   "types_to_exclude": [
    "module",
    "function",
    "builtin_function_or_method",
    "instance",
    "_Feature"
   ],
   "window_display": false
  }
 },
 "nbformat": 4,
 "nbformat_minor": 5
}
